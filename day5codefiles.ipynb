{
  "nbformat": 4,
  "nbformat_minor": 0,
  "metadata": {
    "colab": {
      "name": "day5codefiles.ipynb",
      "provenance": []
    },
    "kernelspec": {
      "name": "python3",
      "display_name": "Python 3"
    },
    "language_info": {
      "name": "python"
    }
  },
  "cells": [
    {
      "cell_type": "code",
      "metadata": {
        "colab": {
          "base_uri": "https://localhost:8080/"
        },
        "id": "xzjm9OE1wBYK",
        "outputId": "9c909f2d-0ad7-4f6c-c6bb-d864ec4acb38"
      },
      "source": [
        "import math\n",
        "math.ceil(7.6)"
      ],
      "execution_count": 1,
      "outputs": [
        {
          "output_type": "execute_result",
          "data": {
            "text/plain": [
              "8"
            ]
          },
          "metadata": {
            "tags": []
          },
          "execution_count": 1
        }
      ]
    },
    {
      "cell_type": "code",
      "metadata": {
        "colab": {
          "base_uri": "https://localhost:8080/"
        },
        "id": "c8Nsm25pwp76",
        "outputId": "1d68a87d-2925-4970-c75d-5f0ac725b6f7"
      },
      "source": [
        "try:\n",
        "    f = open('testfile','w')\n",
        "    f.write('Test write this')\n",
        "except IOError:\n",
        "   print(\"Error: Could not find file or read data\")\n",
        "else:\n",
        "   print(\"Content written successfully\")\n",
        "   f.close()"
      ],
      "execution_count": 2,
      "outputs": [
        {
          "output_type": "stream",
          "text": [
            "Content written successfully\n"
          ],
          "name": "stdout"
        }
      ]
    },
    {
      "cell_type": "code",
      "metadata": {
        "colab": {
          "base_uri": "https://localhost:8080/"
        },
        "id": "JlL-8HFSwp9I",
        "outputId": "c278a829-7a17-4158-cc09-c6f5560e6210"
      },
      "source": [
        "try:\n",
        "    f = open('testfile','r')\n",
        "    f.write('Test write this')\n",
        "except IOError:\n",
        "   print(\"Error: Could not find file or read data\")\n",
        "else:\n",
        "   print(\"Content written successfully\")\n",
        "   f.close()"
      ],
      "execution_count": 3,
      "outputs": [
        {
          "output_type": "stream",
          "text": [
            "Error: Could not find file or read data\n"
          ],
          "name": "stdout"
        }
      ]
    },
    {
      "cell_type": "code",
      "metadata": {
        "colab": {
          "base_uri": "https://localhost:8080/"
        },
        "id": "T2Hnt17kwqAE",
        "outputId": "c360a73b-8d7a-4bee-ddef-fb5729ed25b0"
      },
      "source": [
        "try:\n",
        "    f = open('testfile','w')\n",
        "    f.write('Test write this')\n",
        "except:\n",
        "   print(\"Error: Could not find file or read data\")\n",
        "else:\n",
        "   print(\"Content written successfully\")\n",
        "   f.close()"
      ],
      "execution_count": 4,
      "outputs": [
        {
          "output_type": "stream",
          "text": [
            "Content written successfully\n"
          ],
          "name": "stdout"
        }
      ]
    },
    {
      "cell_type": "code",
      "metadata": {
        "colab": {
          "base_uri": "https://localhost:8080/"
        },
        "id": "rcExEVCMwqB7",
        "outputId": "b93ef875-b9aa-4e86-89f4-0710f63a8337"
      },
      "source": [
        "try:\n",
        "   f = open(\"testfile\", \"w\")\n",
        "   f.write(\"Test write statement\")\n",
        "finally:\n",
        "   print(\"Always execute finally code blocks\")"
      ],
      "execution_count": 5,
      "outputs": [
        {
          "output_type": "stream",
          "text": [
            "Always execute finally code blocks\n"
          ],
          "name": "stdout"
        }
      ]
    },
    {
      "cell_type": "code",
      "metadata": {
        "colab": {
          "base_uri": "https://localhost:8080/"
        },
        "id": "Su2CiDnCwqEc",
        "outputId": "0567069e-7ef5-42b7-b475-8b41863f9abc"
      },
      "source": [
        "def askint():\n",
        "        try:\n",
        "            val = int(input(\"Please enter an integer: \"))\n",
        "        except:\n",
        "            print(\"Looks like you did not enter an integer!\")\n",
        "            \n",
        "        finally:\n",
        "            print(\"Finally, I executed!\")\n",
        "        print(val)       \n",
        "\n",
        "askint()"
      ],
      "execution_count": 6,
      "outputs": [
        {
          "output_type": "stream",
          "text": [
            "Please enter an integer: 123\n",
            "Finally, I executed!\n",
            "123\n"
          ],
          "name": "stdout"
        }
      ]
    },
    {
      "cell_type": "code",
      "metadata": {
        "colab": {
          "base_uri": "https://localhost:8080/"
        },
        "id": "_zfLEdr2wqGG",
        "outputId": "1a8afdc3-cac5-43b2-bb19-39964a57b246"
      },
      "source": [
        "def askint():\n",
        "        try:\n",
        "            val = int(input(\"Please enter an integer: \"))\n",
        "        except:\n",
        "            print(\"Looks like you did not enter an integer!\")\n",
        "            val = int(input(\"Try again-Please enter an integer: \"))\n",
        "        finally:\n",
        "            print(\"Finally, I executed!\")\n",
        "        print(val) \n",
        "\n",
        "askint()"
      ],
      "execution_count": 7,
      "outputs": [
        {
          "output_type": "stream",
          "text": [
            "Please enter an integer: 5896\n",
            "Finally, I executed!\n",
            "5896\n"
          ],
          "name": "stdout"
        }
      ]
    },
    {
      "cell_type": "code",
      "metadata": {
        "colab": {
          "base_uri": "https://localhost:8080/"
        },
        "id": "AdN5hf_CwqJI",
        "outputId": "e640b871-2416-4f8a-e6e9-026e7e6a8c48"
      },
      "source": [
        "def askint():\n",
        "    while True:\n",
        "        try:\n",
        "            val = int(input(\"Please enter an integer: \"))\n",
        "        except:\n",
        "            print(\"Looks like you did not enter an integer!\")\n",
        "            continue\n",
        "        else:\n",
        "            print('Yep thats an integer!')\n",
        "            break\n",
        "        finally:\n",
        "            print(\"Finally, I executed!\")\n",
        "        print(val) \n",
        "\n",
        "askint()"
      ],
      "execution_count": 8,
      "outputs": [
        {
          "output_type": "stream",
          "text": [
            "Please enter an integer: jsbdfhb\n",
            "Looks like you did not enter an integer!\n",
            "Finally, I executed!\n",
            "Please enter an integer: 2\n",
            "Yep thats an integer!\n",
            "Finally, I executed!\n"
          ],
          "name": "stdout"
        }
      ]
    },
    {
      "cell_type": "code",
      "metadata": {
        "colab": {
          "base_uri": "https://localhost:8080/"
        },
        "id": "_I5Z7FUvwqK4",
        "outputId": "0e051ca5-5964-4a15-b703-655a3cdcc7b2"
      },
      "source": [
        "import sqlite3\n",
        "db = sqlite3.connect(\"my_database1.db\")\n",
        "db.execute(\"drop table if exists grades1\")\n"
      ],
      "execution_count": 12,
      "outputs": [
        {
          "output_type": "execute_result",
          "data": {
            "text/plain": [
              "<sqlite3.Cursor at 0x7fe5c9dc1260>"
            ]
          },
          "metadata": {
            "tags": []
          },
          "execution_count": 12
        }
      ]
    },
    {
      "cell_type": "code",
      "metadata": {
        "colab": {
          "base_uri": "https://localhost:8080/"
        },
        "id": "eJf1uvh-wqNX",
        "outputId": "b1eb883d-84e5-45a9-d97a-a306ebaf9f03"
      },
      "source": [
        "db.execute(\"create table grades(id int, name text, score int)\")"
      ],
      "execution_count": 14,
      "outputs": [
        {
          "output_type": "execute_result",
          "data": {
            "text/plain": [
              "<sqlite3.Cursor at 0x7fe5c9dc1f10>"
            ]
          },
          "metadata": {
            "tags": []
          },
          "execution_count": 14
        }
      ]
    },
    {
      "cell_type": "code",
      "metadata": {
        "colab": {
          "base_uri": "https://localhost:8080/"
        },
        "id": "TYuwL6rnwqO7",
        "outputId": "c1de59e7-d937-4f26-897f-3435f2cbb298"
      },
      "source": [
        "db.execute(\"insert into grades(id, name, score) values(01, 'tina',99 )\")\n",
        "db.execute(\"insert into grades(id, name, score) values(02, 'ram',90 )\")\n",
        "db.execute(\"insert into grades(id, name, score) values(03, 'raju', 80 )\")\n",
        "db.execute(\"insert into grades(id, name, score) values(04, 'krish', 85 )\")\n",
        "db.execute(\"insert into grades(id, name, score) values(05, 'arav',95 )\")"
      ],
      "execution_count": 15,
      "outputs": [
        {
          "output_type": "execute_result",
          "data": {
            "text/plain": [
              "<sqlite3.Cursor at 0x7fe5c9d559d0>"
            ]
          },
          "metadata": {
            "tags": []
          },
          "execution_count": 15
        }
      ]
    },
    {
      "cell_type": "code",
      "metadata": {
        "id": "Tv8J3U6QwqSA"
      },
      "source": [
        "db.commit()"
      ],
      "execution_count": 16,
      "outputs": []
    },
    {
      "cell_type": "code",
      "metadata": {
        "colab": {
          "base_uri": "https://localhost:8080/"
        },
        "id": "NL3PZVywwqT-",
        "outputId": "d39d0d32-7c1b-4dac-8daf-7ebde3f97aaf"
      },
      "source": [
        "results = db.execute(\"select * from grades order by id\")\n",
        "for row in results:\n",
        "    print(row)\n",
        "print(\"-\" * 60 )"
      ],
      "execution_count": 17,
      "outputs": [
        {
          "output_type": "stream",
          "text": [
            "(1, 'tina', 99)\n",
            "(2, 'ram', 90)\n",
            "(3, 'raju', 80)\n",
            "(4, 'krish', 85)\n",
            "(5, 'arav', 95)\n",
            "------------------------------------------------------------\n"
          ],
          "name": "stdout"
        }
      ]
    },
    {
      "cell_type": "code",
      "metadata": {
        "colab": {
          "base_uri": "https://localhost:8080/"
        },
        "id": "SG_XJ00NwqWw",
        "outputId": "4168df80-7b38-4a55-c33b-09408642b4f3"
      },
      "source": [
        "results = db.execute(\"select * from grades where name = 'raju' \")\n",
        "for row in results:\n",
        "    print(row)\n",
        "print(\"-\" * 60 )"
      ],
      "execution_count": 18,
      "outputs": [
        {
          "output_type": "stream",
          "text": [
            "(3, 'raju', 80)\n",
            "------------------------------------------------------------\n"
          ],
          "name": "stdout"
        }
      ]
    },
    {
      "cell_type": "code",
      "metadata": {
        "colab": {
          "base_uri": "https://localhost:8080/"
        },
        "id": "JLWWduF6wqYl",
        "outputId": "1ab313cf-ab8f-4340-ca65-fa95c781b1f1"
      },
      "source": [
        "results = db.execute(\"select * from grades where score >= 75 \")\n",
        "for row in results:\n",
        "    print(row)\n",
        "print(\"-\" * 60 )"
      ],
      "execution_count": 19,
      "outputs": [
        {
          "output_type": "stream",
          "text": [
            "(1, 'tina', 99)\n",
            "(2, 'ram', 90)\n",
            "(3, 'raju', 80)\n",
            "(4, 'krish', 85)\n",
            "(5, 'arav', 95)\n",
            "------------------------------------------------------------\n"
          ],
          "name": "stdout"
        }
      ]
    },
    {
      "cell_type": "code",
      "metadata": {
        "colab": {
          "base_uri": "https://localhost:8080/"
        },
        "id": "djgg0djNwqb3",
        "outputId": "2cd84a04-93fb-414d-fe0c-6c6b389aa72a"
      },
      "source": [
        "results = db.execute(\"select name, score from grades order by score desc \")\n",
        "for row in results:\n",
        "    print(row)\n",
        "print(\"-\" * 60 )"
      ],
      "execution_count": 21,
      "outputs": [
        {
          "output_type": "stream",
          "text": [
            "('tina', 99)\n",
            "('arav', 95)\n",
            "('ram', 90)\n",
            "('krish', 85)\n",
            "('raju', 80)\n",
            "------------------------------------------------------------\n"
          ],
          "name": "stdout"
        }
      ]
    },
    {
      "cell_type": "code",
      "metadata": {
        "colab": {
          "base_uri": "https://localhost:8080/"
        },
        "id": "d1KpHZmjwqdi",
        "outputId": "5641bb1e-9926-4a7b-d582-a683f2edc470"
      },
      "source": [
        "results = db.execute(\"select name, score from grades order by score\")\n",
        "for row in results:\n",
        "    print(row)\n",
        "print(\"-\" * 60 )"
      ],
      "execution_count": 22,
      "outputs": [
        {
          "output_type": "stream",
          "text": [
            "('raju', 80)\n",
            "('krish', 85)\n",
            "('ram', 90)\n",
            "('arav', 95)\n",
            "('tina', 99)\n",
            "------------------------------------------------------------\n"
          ],
          "name": "stdout"
        }
      ]
    },
    {
      "cell_type": "code",
      "metadata": {
        "colab": {
          "base_uri": "https://localhost:8080/"
        },
        "id": "29Ywrp4XwqhF",
        "outputId": "5a41c64f-815a-4317-b05f-40532d27ec75"
      },
      "source": [
        "results = db.execute(\"select name, score from grades order by score\")\n",
        "for row in results:\n",
        "    print(row)"
      ],
      "execution_count": 23,
      "outputs": [
        {
          "output_type": "stream",
          "text": [
            "('raju', 80)\n",
            "('krish', 85)\n",
            "('ram', 90)\n",
            "('arav', 95)\n",
            "('tina', 99)\n"
          ],
          "name": "stdout"
        }
      ]
    }
  ]
}
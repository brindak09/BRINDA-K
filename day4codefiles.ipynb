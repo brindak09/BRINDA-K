{
  "nbformat": 4,
  "nbformat_minor": 0,
  "metadata": {
    "colab": {
      "name": "day4codefiles.ipynb",
      "provenance": [],
      "collapsed_sections": []
    },
    "kernelspec": {
      "name": "python3",
      "display_name": "Python 3"
    },
    "language_info": {
      "name": "python"
    }
  },
  "cells": [
    {
      "cell_type": "code",
      "metadata": {
        "id": "fNgtr1-AtpKj",
        "colab": {
          "base_uri": "https://localhost:8080/"
        },
        "outputId": "a9496f0d-cd19-4b59-ea2d-d748296f5b21"
      },
      "source": [
        "class Person:\n",
        "    pass\n",
        "\n",
        "john_doe = Person()\n",
        "john_doe.name = \"Alec\"\n",
        "john_doe.surname = \"Baldwin\"\n",
        "john_doe.year_of_birth = 1958\n",
        "\n",
        "\n",
        "print(john_doe)\n",
        "print(\"%s %s was born in %d.\" %\n",
        "      (john_doe.name, john_doe.surname, john_doe.year_of_birth))"
      ],
      "execution_count": 4,
      "outputs": [
        {
          "output_type": "stream",
          "text": [
            "<__main__.Person object at 0x7f78bab8c6d0>\n",
            "Alec Baldwin was born in 1958.\n"
          ],
          "name": "stdout"
        }
      ]
    },
    {
      "cell_type": "code",
      "metadata": {
        "id": "TYdWaRrn-htE",
        "colab": {
          "base_uri": "https://localhost:8080/"
        },
        "outputId": "f62139a1-3d8b-452d-b727-4a38c2d8b474"
      },
      "source": [
        "class Person:\n",
        "    def __init__(self, name, surname, year_of_birth):\n",
        "        self.name = name\n",
        "        self.surname = surname\n",
        "        self.year_of_birth = year_of_birth\n",
        "\n",
        "alec = Person(\"Alec\", \"Baldwin\", 1958)\n",
        "print(alec)\n",
        "print(\"%s %s was born in %d\"% (alec.name,alec.surname,alec.year_of_birth))\n"
      ],
      "execution_count": 5,
      "outputs": [
        {
          "output_type": "stream",
          "text": [
            "<__main__.Person object at 0x7f78bab91b90>\n",
            "Alec Baldwin was born in 1958\n"
          ],
          "name": "stdout"
        }
      ]
    },
    {
      "cell_type": "code",
      "metadata": {
        "id": "HbPkhqc6-hux",
        "colab": {
          "base_uri": "https://localhost:8080/"
        },
        "outputId": "65452c08-f172-474e-d206-ff19137a5639"
      },
      "source": [
        "class Person:\n",
        "    def __init__(self, name, surname, year_of_birth):\n",
        "        self.name = name\n",
        "        self.surname = surname\n",
        "        self.year_of_birth = year_of_birth\n",
        "    \n",
        "    def age(self, current_year):\n",
        "        return current_year - self.year_of_birth\n",
        "    \n",
        "    def __str__(self):\n",
        "        return \"%s %s was born in %d .\" % (self.name, self.surname, self.year_of_birth)\n",
        "    \n",
        "alec = Person(\"Alec\", \"Baldwin\", 1958)\n",
        "print(alec)\n",
        "print(alec.age(2019))"
      ],
      "execution_count": 6,
      "outputs": [
        {
          "output_type": "stream",
          "text": [
            "Alec Baldwin was born in 1958 .\n",
            "61\n"
          ],
          "name": "stdout"
        }
      ]
    },
    {
      "cell_type": "code",
      "metadata": {
        "id": "CWm5FKpF-hx5",
        "colab": {
          "base_uri": "https://localhost:8080/"
        },
        "outputId": "6c8b6164-82b2-4372-cf8a-9e9611a99c75"
      },
      "source": [
        "class Student(Person):\n",
        "    def __init__(self, student_id, *args, **kwargs):\n",
        "        super(Student, self).__init__(*args, **kwargs)\n",
        "        self._student_id = student_id\n",
        "        \n",
        "charlie = Student(1, 'Charlie', 'Brown', 2006)\n",
        "print(charlie)\n",
        "print(type(charlie))\n",
        "print(isinstance(charlie, Person))\n",
        "print(isinstance(charlie, object))\n"
      ],
      "execution_count": 7,
      "outputs": [
        {
          "output_type": "stream",
          "text": [
            "Charlie Brown was born in 2006 .\n",
            "<class '__main__.Student'>\n",
            "True\n",
            "True\n"
          ],
          "name": "stdout"
        }
      ]
    },
    {
      "cell_type": "code",
      "metadata": {
        "id": "6E26P6is-h2A",
        "colab": {
          "base_uri": "https://localhost:8080/"
        },
        "outputId": "a7249ada-9041-46d5-8534-8478cc36767a"
      },
      "source": [
        "class Student(Person):\n",
        "    def __init__(self, student_id, *args, **kwargs):\n",
        "        super(Student, self).__init__(*args, **kwargs)\n",
        "        self._student_id = student_id\n",
        "        \n",
        "    def __str__(self):\n",
        "        return super(Student, self).__str__() + \" And has ID: %d\" % self._student_id\n",
        "        \n",
        "charlie = Student(1, 'Charlie', 'Brown', 2006)\n",
        "print(charlie)\n"
      ],
      "execution_count": 8,
      "outputs": [
        {
          "output_type": "stream",
          "text": [
            "Charlie Brown was born in 2006 . And has ID: 1\n"
          ],
          "name": "stdout"
        }
      ]
    },
    {
      "cell_type": "code",
      "metadata": {
        "id": "AMUoNrHJ-h4x",
        "colab": {
          "base_uri": "https://localhost:8080/"
        },
        "outputId": "2dd00bb2-abda-493a-df7d-3398f533472d"
      },
      "source": [
        "def summer(a, b):\n",
        "    return a + b\n",
        "\n",
        "print(summer(1, 1))\n",
        "print(summer([\"a\", \"b\", \"c\"], [\"d\", \"e\"]))\n",
        "print(summer(\"abra\", \"cadabra\"))\n"
      ],
      "execution_count": 9,
      "outputs": [
        {
          "output_type": "stream",
          "text": [
            "2\n",
            "['a', 'b', 'c', 'd', 'e']\n",
            "abracadabra\n"
          ],
          "name": "stdout"
        }
      ]
    },
    {
      "cell_type": "code",
      "metadata": {
        "id": "tMHxgpAL-ioc"
      },
      "source": [
        "my_file = open('textfile.txt')\n",
        "my_file.read()"
      ],
      "execution_count": null,
      "outputs": []
    },
    {
      "cell_type": "code",
      "metadata": {
        "id": "aiv4betB-ixX"
      },
      "source": [
        "my_file = open('textfile.txt')\n",
        "my_file.seek(0)\n",
        "my_file.read()"
      ],
      "execution_count": null,
      "outputs": []
    },
    {
      "cell_type": "code",
      "metadata": {
        "id": "V3ft4L4I-jJ2",
        "colab": {
          "base_uri": "https://localhost:8080/",
          "height": 35
        },
        "outputId": "d7fe92a0-8a40-4eea-ce33-01d1ae0d384b"
      },
      "source": [
        "from io import StringIO\n",
        "message = 'bangalore is called the garden city'\n",
        "f = StringIO(message)\n",
        "f.read()"
      ],
      "execution_count": 14,
      "outputs": [
        {
          "output_type": "execute_result",
          "data": {
            "application/vnd.google.colaboratory.intrinsic+json": {
              "type": "string"
            },
            "text/plain": [
              "'bangalore is called the garden city'"
            ]
          },
          "metadata": {
            "tags": []
          },
          "execution_count": 14
        }
      ]
    },
    {
      "cell_type": "code",
      "metadata": {
        "id": "BA0vE7ni-jND",
        "colab": {
          "base_uri": "https://localhost:8080/"
        },
        "outputId": "63d076bd-422d-4c9e-f706-0fca5e08dcf8"
      },
      "source": [
        "from io import StringIO\n",
        "f.write(' Second line written to file like object')"
      ],
      "execution_count": 17,
      "outputs": [
        {
          "output_type": "execute_result",
          "data": {
            "text/plain": [
              "40"
            ]
          },
          "metadata": {
            "tags": []
          },
          "execution_count": 17
        }
      ]
    },
    {
      "cell_type": "code",
      "metadata": {
        "id": "Ac6aR2J6-jOx",
        "colab": {
          "base_uri": "https://localhost:8080/",
          "height": 35
        },
        "outputId": "89926144-e1c8-494b-8f08-05f9183e414e"
      },
      "source": [
        "from io import StringIO\n",
        "f.seek(0)\n",
        "f.read()"
      ],
      "execution_count": 19,
      "outputs": [
        {
          "output_type": "execute_result",
          "data": {
            "application/vnd.google.colaboratory.intrinsic+json": {
              "type": "string"
            },
            "text/plain": [
              "'bangalore is called the garden city Second line written to file like object Second line written to file like object'"
            ]
          },
          "metadata": {
            "tags": []
          },
          "execution_count": 19
        }
      ]
    },
    {
      "cell_type": "code",
      "metadata": {
        "id": "LHUhKIMi-jSO"
      },
      "source": [
        ""
      ],
      "execution_count": null,
      "outputs": []
    }
  ]
}
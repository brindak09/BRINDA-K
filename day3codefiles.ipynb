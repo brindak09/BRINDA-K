{
  "nbformat": 4,
  "nbformat_minor": 0,
  "metadata": {
    "colab": {
      "name": "day3codefiles.ipynb",
      "provenance": [],
      "collapsed_sections": []
    },
    "kernelspec": {
      "name": "python3",
      "display_name": "Python 3"
    },
    "language_info": {
      "name": "python"
    }
  },
  "cells": [
    {
      "cell_type": "code",
      "metadata": {
        "colab": {
          "base_uri": "https://localhost:8080/"
        },
        "id": "7rMSu0-5t3RX",
        "outputId": "ac2c5be4-4b5e-4042-f93d-713f748488a7"
      },
      "source": [
        "t = (1,2,3,4)\n",
        "t"
      ],
      "execution_count": 2,
      "outputs": [
        {
          "output_type": "execute_result",
          "data": {
            "text/plain": [
              "(1, 2, 3, 4)"
            ]
          },
          "metadata": {
            "tags": []
          },
          "execution_count": 2
        }
      ]
    },
    {
      "cell_type": "code",
      "metadata": {
        "id": "5q8-9l0at3T9"
      },
      "source": [
        "t=('hi',4,5)\n",
        "t.index('hi')\n"
      ],
      "execution_count": null,
      "outputs": []
    },
    {
      "cell_type": "code",
      "metadata": {
        "colab": {
          "base_uri": "https://localhost:8080/"
        },
        "id": "Pels27nnt3Vw",
        "outputId": "be96d762-b6ba-443f-8462-14664a528888"
      },
      "source": [
        "x=set()\n",
        "x.add(1)\n",
        "x\n",
        "x.add(2)\n",
        "x"
      ],
      "execution_count": 7,
      "outputs": [
        {
          "output_type": "execute_result",
          "data": {
            "text/plain": [
              "{1, 2}"
            ]
          },
          "metadata": {
            "tags": []
          },
          "execution_count": 7
        }
      ]
    },
    {
      "cell_type": "code",
      "metadata": {
        "id": "h1deG6yvt3Yr"
      },
      "source": [
        "l=[1,4,6,7,8,4,5,6,7,9,3,2,3,5,6,]\n",
        "set(1)"
      ],
      "execution_count": null,
      "outputs": []
    },
    {
      "cell_type": "code",
      "metadata": {
        "colab": {
          "base_uri": "https://localhost:8080/",
          "height": 35
        },
        "id": "z1oGXQOOt3au",
        "outputId": "aa6a30e2-6b59-4e78-d170-93dc9b831368"
      },
      "source": [
        "my_dict = {'key1':'value1','key2':'value2'}\n",
        "my_dict['key2']"
      ],
      "execution_count": 12,
      "outputs": [
        {
          "output_type": "execute_result",
          "data": {
            "application/vnd.google.colaboratory.intrinsic+json": {
              "type": "string"
            },
            "text/plain": [
              "'value2'"
            ]
          },
          "metadata": {
            "tags": []
          },
          "execution_count": 12
        }
      ]
    },
    {
      "cell_type": "code",
      "metadata": {
        "colab": {
          "base_uri": "https://localhost:8080/"
        },
        "id": "95HFe-5Dt3ei",
        "outputId": "53962ba1-27ce-4230-b4cb-33141114400d"
      },
      "source": [
        "my_dict = {'key1':123,'key2':[12,23,33],'key3':['item0','item1','item2']}\n",
        "my_dict['key3']"
      ],
      "execution_count": 13,
      "outputs": [
        {
          "output_type": "execute_result",
          "data": {
            "text/plain": [
              "['item0', 'item1', 'item2']"
            ]
          },
          "metadata": {
            "tags": []
          },
          "execution_count": 13
        }
      ]
    },
    {
      "cell_type": "code",
      "metadata": {
        "colab": {
          "base_uri": "https://localhost:8080/",
          "height": 35
        },
        "id": "2tzvKwnSt3gP",
        "outputId": "74b3a6ab-b520-457d-c32e-74b1f444931c"
      },
      "source": [
        "my_dict = {'key1':123,'key2':[12,23,33],'key3':['item0','item1','item2']}\n",
        "my_dict['key3'][0]"
      ],
      "execution_count": 14,
      "outputs": [
        {
          "output_type": "execute_result",
          "data": {
            "application/vnd.google.colaboratory.intrinsic+json": {
              "type": "string"
            },
            "text/plain": [
              "'item0'"
            ]
          },
          "metadata": {
            "tags": []
          },
          "execution_count": 14
        }
      ]
    },
    {
      "cell_type": "code",
      "metadata": {
        "colab": {
          "base_uri": "https://localhost:8080/",
          "height": 35
        },
        "id": "M8zGHZLKt3jd",
        "outputId": "4ac696cd-f815-41f9-ec73-6a1d54448fe7"
      },
      "source": [
        "my_dict = {'key1':123,'key2':[12,23,33],'key3':['item0','item1','item2']}\n",
        "my_dict['key3'][0].upper()"
      ],
      "execution_count": 15,
      "outputs": [
        {
          "output_type": "execute_result",
          "data": {
            "application/vnd.google.colaboratory.intrinsic+json": {
              "type": "string"
            },
            "text/plain": [
              "'ITEM0'"
            ]
          },
          "metadata": {
            "tags": []
          },
          "execution_count": 15
        }
      ]
    },
    {
      "cell_type": "code",
      "metadata": {
        "colab": {
          "base_uri": "https://localhost:8080/"
        },
        "id": "Qqqlilift3lH",
        "outputId": "bd2118d0-1ece-4941-e95e-a6b63711bf99"
      },
      "source": [
        "my_dict = {'key1':350,'key2':[12,23,33],'key3':['item0','item1','item2']}\n",
        "my_dict['key1']\n",
        "my_dict['key1'] = my_dict['key1'] - 350\n",
        "my_dict['key1']"
      ],
      "execution_count": 16,
      "outputs": [
        {
          "output_type": "execute_result",
          "data": {
            "text/plain": [
              "0"
            ]
          },
          "metadata": {
            "tags": []
          },
          "execution_count": 16
        }
      ]
    },
    {
      "cell_type": "code",
      "metadata": {
        "colab": {
          "base_uri": "https://localhost:8080/"
        },
        "id": "fb25t2Ewt3oS",
        "outputId": "7332e842-44e0-445f-83c2-2ecf68a50fbc"
      },
      "source": [
        "d = {}\n",
        "d['state'] = 'karnataka'\n",
        "d['city'] = 'bangalore'\n",
        "d['pin']=42\n",
        "d"
      ],
      "execution_count": 17,
      "outputs": [
        {
          "output_type": "execute_result",
          "data": {
            "text/plain": [
              "{'city': 'bangalore', 'pin': 42, 'state': 'karnataka'}"
            ]
          },
          "metadata": {
            "tags": []
          },
          "execution_count": 17
        }
      ]
    },
    {
      "cell_type": "code",
      "metadata": {
        "colab": {
          "base_uri": "https://localhost:8080/",
          "height": 35
        },
        "id": "uYws2kGMt3rF",
        "outputId": "62f6cbcc-acf2-42e0-881b-38f0e999bb4c"
      },
      "source": [
        "d = {'country':{'state':{'city':'bangalore'}}}\n",
        "d['country']['state']['city']"
      ],
      "execution_count": 18,
      "outputs": [
        {
          "output_type": "execute_result",
          "data": {
            "application/vnd.google.colaboratory.intrinsic+json": {
              "type": "string"
            },
            "text/plain": [
              "'bangalore'"
            ]
          },
          "metadata": {
            "tags": []
          },
          "execution_count": 18
        }
      ]
    },
    {
      "cell_type": "code",
      "metadata": {
        "colab": {
          "base_uri": "https://localhost:8080/"
        },
        "id": "i66wxDeGzU-P",
        "outputId": "06a3c2a1-49c6-4aee-b5fe-69d9bbcbd831"
      },
      "source": [
        "d = {'key1':1,'key2':2,'key3':3}\n",
        "d.keys()"
      ],
      "execution_count": 19,
      "outputs": [
        {
          "output_type": "execute_result",
          "data": {
            "text/plain": [
              "dict_keys(['key1', 'key2', 'key3'])"
            ]
          },
          "metadata": {
            "tags": []
          },
          "execution_count": 19
        }
      ]
    },
    {
      "cell_type": "code",
      "metadata": {
        "colab": {
          "base_uri": "https://localhost:8080/"
        },
        "id": "4paZzm-pzU_5",
        "outputId": "c726970b-9bf7-4893-f7f9-6bd054a7e20a"
      },
      "source": [
        "d = {'key1':1,'key2':2,'key3':3}\n",
        "d.values()"
      ],
      "execution_count": 20,
      "outputs": [
        {
          "output_type": "execute_result",
          "data": {
            "text/plain": [
              "dict_values([1, 2, 3])"
            ]
          },
          "metadata": {
            "tags": []
          },
          "execution_count": 20
        }
      ]
    },
    {
      "cell_type": "code",
      "metadata": {
        "colab": {
          "base_uri": "https://localhost:8080/"
        },
        "id": "cqrcjRlWzVDX",
        "outputId": "e5ab07f0-27c5-466a-b58b-5dd46eb8a015"
      },
      "source": [
        "d = {'key1':1,'key2':2,'key3':3}\n",
        "d.items()"
      ],
      "execution_count": 21,
      "outputs": [
        {
          "output_type": "execute_result",
          "data": {
            "text/plain": [
              "dict_items([('key1', 1), ('key2', 2), ('key3', 3)])"
            ]
          },
          "metadata": {
            "tags": []
          },
          "execution_count": 21
        }
      ]
    },
    {
      "cell_type": "code",
      "metadata": {
        "colab": {
          "base_uri": "https://localhost:8080/"
        },
        "id": "75TxrYTMzVEt",
        "outputId": "397b121b-5b70-47cc-d087-5caaf61392c8"
      },
      "source": [
        "print(list(range(10)))\n",
        "{x:x**2 for x in range(10)}"
      ],
      "execution_count": 22,
      "outputs": [
        {
          "output_type": "stream",
          "text": [
            "[0, 1, 2, 3, 4, 5, 6, 7, 8, 9]\n"
          ],
          "name": "stdout"
        },
        {
          "output_type": "execute_result",
          "data": {
            "text/plain": [
              "{0: 0, 1: 1, 2: 4, 3: 9, 4: 16, 5: 25, 6: 36, 7: 49, 8: 64, 9: 81}"
            ]
          },
          "metadata": {
            "tags": []
          },
          "execution_count": 22
        }
      ]
    },
    {
      "cell_type": "code",
      "metadata": {
        "colab": {
          "base_uri": "https://localhost:8080/"
        },
        "id": "wbT5hSzn0b7y",
        "outputId": "bb98212c-5602-4a72-d6ed-0cf246f61332"
      },
      "source": [
        "def say_hello():\n",
        "    print('hello')\n",
        "\n",
        "say_hello()"
      ],
      "execution_count": 23,
      "outputs": [
        {
          "output_type": "stream",
          "text": [
            "hello\n"
          ],
          "name": "stdout"
        }
      ]
    },
    {
      "cell_type": "code",
      "metadata": {
        "colab": {
          "base_uri": "https://localhost:8080/"
        },
        "id": "GjWKWwKf0b9Y",
        "outputId": "aa5ce926-b9a5-4f3e-b15f-3330682a72ce"
      },
      "source": [
        "def greeting(name):\n",
        "    print('Hi %s' %name)\n",
        "    print('How have you been %s'%name)\n",
        "\n",
        "greeting('tina')"
      ],
      "execution_count": 24,
      "outputs": [
        {
          "output_type": "stream",
          "text": [
            "Hi tina\n",
            "How have you been tina\n"
          ],
          "name": "stdout"
        }
      ]
    },
    {
      "cell_type": "code",
      "metadata": {
        "colab": {
          "base_uri": "https://localhost:8080/"
        },
        "id": "VR7pASMR0cAQ",
        "outputId": "6e759f00-40c8-41c1-99fe-44763610e404"
      },
      "source": [
        "def add_num(num1,num2):\n",
        "    return num1+num2\n",
        "\n",
        "add_num(4,5)"
      ],
      "execution_count": 25,
      "outputs": [
        {
          "output_type": "execute_result",
          "data": {
            "text/plain": [
              "9"
            ]
          },
          "metadata": {
            "tags": []
          },
          "execution_count": 25
        }
      ]
    },
    {
      "cell_type": "code",
      "metadata": {
        "colab": {
          "base_uri": "https://localhost:8080/"
        },
        "id": "GFL3VfXj0cDV",
        "outputId": "04a208e3-b576-49c4-c42f-54ab67bddc19"
      },
      "source": [
        "def add_num(num1,num2):\n",
        "    return num1+num2\n",
        "result = add_num(4,5)\n",
        "print(result)"
      ],
      "execution_count": 27,
      "outputs": [
        {
          "output_type": "stream",
          "text": [
            "9\n"
          ],
          "name": "stdout"
        }
      ]
    },
    {
      "cell_type": "code",
      "metadata": {
        "colab": {
          "base_uri": "https://localhost:8080/"
        },
        "id": "ykuHtjWkzVIv",
        "outputId": "70a12a87-ebc7-4b83-9aa5-39d7878779bc"
      },
      "source": [
        "def is_prime(num):\n",
        "     for n in range(2,num):\n",
        "        if num % n == 0:\n",
        "            print('not prime')\n",
        "            break\n",
        "        else:\n",
        "          print('prime')\n",
        "\n",
        "is_prime(12)"
      ],
      "execution_count": 32,
      "outputs": [
        {
          "output_type": "stream",
          "text": [
            "not prime\n"
          ],
          "name": "stdout"
        }
      ]
    },
    {
      "cell_type": "code",
      "metadata": {
        "colab": {
          "base_uri": "https://localhost:8080/"
        },
        "id": "mJ_pGDEc2Rzc",
        "outputId": "08a91e1d-0305-4212-8f51-c0cc5bbb4e3d"
      },
      "source": [
        "import math\n",
        "def is_prime(num):\n",
        "    if num % 2 == 0 and num > 2: \n",
        "        return False\n",
        "    for i in range(3, int(math.sqrt(num)) + 1, 2):\n",
        "        if num % i == 0:\n",
        "            return False\n",
        "    return True\n",
        "\n",
        "is_prime(11)"
      ],
      "execution_count": 33,
      "outputs": [
        {
          "output_type": "execute_result",
          "data": {
            "text/plain": [
              "True"
            ]
          },
          "metadata": {
            "tags": []
          },
          "execution_count": 33
        }
      ]
    },
    {
      "cell_type": "code",
      "metadata": {
        "colab": {
          "base_uri": "https://localhost:8080/"
        },
        "id": "Q9M8yAoW2R0k",
        "outputId": "fdf3baf3-9f50-42af-99bc-72533e438efa"
      },
      "source": [
        "def gencubes(n):\n",
        "    for num in range(n):\n",
        "        yield num**3\n",
        "for x in gencubes(6):\n",
        " print(x)"
      ],
      "execution_count": 35,
      "outputs": [
        {
          "output_type": "stream",
          "text": [
            "0\n",
            "1\n",
            "8\n",
            "27\n",
            "64\n",
            "125\n"
          ],
          "name": "stdout"
        }
      ]
    },
    {
      "cell_type": "code",
      "metadata": {
        "colab": {
          "base_uri": "https://localhost:8080/"
        },
        "id": "vIfpr9zN2R3q",
        "outputId": "21d826d3-27ab-4e49-8084-731166d83add"
      },
      "source": [
        "def genfibon(n):\n",
        "    a = 1\n",
        "    b = 1\n",
        "    for i in range(n):\n",
        "        yield a\n",
        "        a,b = b,a+b\n",
        "for num in genfibon(10):\n",
        "    print(num)"
      ],
      "execution_count": 36,
      "outputs": [
        {
          "output_type": "stream",
          "text": [
            "1\n",
            "1\n",
            "2\n",
            "3\n",
            "5\n",
            "8\n",
            "13\n",
            "21\n",
            "34\n",
            "55\n"
          ],
          "name": "stdout"
        }
      ]
    },
    {
      "cell_type": "code",
      "metadata": {
        "colab": {
          "base_uri": "https://localhost:8080/"
        },
        "id": "4Hs5VtW_2R5Y",
        "outputId": "4e4f163c-26b2-4cce-c9f2-2284fca24262"
      },
      "source": [
        "def fibon(n):\n",
        "    a = 1\n",
        "    b = 1\n",
        "    output = []\n",
        "    \n",
        "    for i in range(n):\n",
        "        output.append(a)\n",
        "        a,b = b,a+b\n",
        "        \n",
        "    return output\n",
        "\n",
        "fibon(10)"
      ],
      "execution_count": 37,
      "outputs": [
        {
          "output_type": "execute_result",
          "data": {
            "text/plain": [
              "[1, 1, 2, 3, 5, 8, 13, 21, 34, 55]"
            ]
          },
          "metadata": {
            "tags": []
          },
          "execution_count": 37
        }
      ]
    },
    {
      "cell_type": "code",
      "metadata": {
        "colab": {
          "base_uri": "https://localhost:8080/"
        },
        "id": "rDJHxKWL2R8e",
        "outputId": "66b71fb4-3ffb-47ec-981e-341b1c43b038"
      },
      "source": [
        "def fahrenheit(T):\n",
        "    return ((float(9)/5)*T + 32)\n",
        "def celsius(T):\n",
        "    return (float(5)/9)*(T-32)\n",
        "    \n",
        "temp = [0, 22.5, 40,100]\n",
        "F_temps = list(map(fahrenheit, temp))\n",
        "F_temps"
      ],
      "execution_count": 38,
      "outputs": [
        {
          "output_type": "execute_result",
          "data": {
            "text/plain": [
              "[32.0, 72.5, 104.0, 212.0]"
            ]
          },
          "metadata": {
            "tags": []
          },
          "execution_count": 38
        }
      ]
    },
    {
      "cell_type": "code",
      "metadata": {
        "colab": {
          "base_uri": "https://localhost:8080/"
        },
        "id": "dRU28ot52R-i",
        "outputId": "43dc2271-c67e-4cfe-ab2a-704643b6609f"
      },
      "source": [
        "def fahrenheit(T):\n",
        "    return ((float(9)/5)*T + 32)\n",
        "def celsius(T):\n",
        "    return (float(5)/9)*(T-32)\n",
        "    \n",
        "temp = [0, 22.5, 40,100]\n",
        "F_temps = list(map(fahrenheit, temp))\n",
        "list(map(celsius, F_temps))\n",
        "F_temps"
      ],
      "execution_count": 39,
      "outputs": [
        {
          "output_type": "execute_result",
          "data": {
            "text/plain": [
              "[32.0, 72.5, 104.0, 212.0]"
            ]
          },
          "metadata": {
            "tags": []
          },
          "execution_count": 39
        }
      ]
    },
    {
      "cell_type": "code",
      "metadata": {
        "colab": {
          "base_uri": "https://localhost:8080/"
        },
        "id": "KJcgorXT2SCL",
        "outputId": "571b841a-2850-4fc0-a2de-7b0132f9fa22"
      },
      "source": [
        "a = [1,2,3,4]\n",
        "b = [5,6,7,8]\n",
        "c = [9,10,11,12]\n",
        "\n",
        "list(map(lambda x,y:x+y, a,b))"
      ],
      "execution_count": 40,
      "outputs": [
        {
          "output_type": "execute_result",
          "data": {
            "text/plain": [
              "[6, 8, 10, 12]"
            ]
          },
          "metadata": {
            "tags": []
          },
          "execution_count": 40
        }
      ]
    },
    {
      "cell_type": "code",
      "metadata": {
        "colab": {
          "base_uri": "https://localhost:8080/"
        },
        "id": "QRDUWc7p2SFI",
        "outputId": "45b80f7c-5180-47e3-f274-ee5085976028"
      },
      "source": [
        "a = [1,2,3,4]\n",
        "b = [5,6,7,8]\n",
        "c = [9,10,11,12]\n",
        "list(map(lambda x,y,z:x+y+z, a,b,c))"
      ],
      "execution_count": 41,
      "outputs": [
        {
          "output_type": "execute_result",
          "data": {
            "text/plain": [
              "[15, 18, 21, 24]"
            ]
          },
          "metadata": {
            "tags": []
          },
          "execution_count": 41
        }
      ]
    },
    {
      "cell_type": "code",
      "metadata": {
        "colab": {
          "base_uri": "https://localhost:8080/"
        },
        "id": "KLBAOy1O4RlA",
        "outputId": "0696e9c8-db74-479c-aacf-4ed5f0e2b431"
      },
      "source": [
        "from functools import reduce\n",
        "lst =[47,11,42,13]\n",
        "reduce(lambda x,y: x+y,lst)\n"
      ],
      "execution_count": 42,
      "outputs": [
        {
          "output_type": "execute_result",
          "data": {
            "text/plain": [
              "113"
            ]
          },
          "metadata": {
            "tags": []
          },
          "execution_count": 42
        }
      ]
    },
    {
      "cell_type": "code",
      "metadata": {
        "colab": {
          "base_uri": "https://localhost:8080/"
        },
        "id": "0TRJrTHK4Rmg",
        "outputId": "feabbdd8-004a-4030-ea4c-9683d87556d9"
      },
      "source": [
        "from functools import reduce\n",
        "lst =[47,11,42,13]\n",
        "reduce(lambda x,y: x+y,lst)\n",
        "max_find = lambda a,b: a if (a > b) else b\n",
        "print(lst)\n",
        "reduce(lambda a,b: a if (a > b) else b,lst)"
      ],
      "execution_count": 43,
      "outputs": [
        {
          "output_type": "stream",
          "text": [
            "[47, 11, 42, 13]\n"
          ],
          "name": "stdout"
        },
        {
          "output_type": "execute_result",
          "data": {
            "text/plain": [
              "47"
            ]
          },
          "metadata": {
            "tags": []
          },
          "execution_count": 43
        }
      ]
    },
    {
      "cell_type": "code",
      "metadata": {
        "id": "k6rvPz-B55PG"
      },
      "source": [
        "def even_check(num):\n",
        "    if num%2 ==0:\n",
        "        return True"
      ],
      "execution_count": 50,
      "outputs": []
    },
    {
      "cell_type": "code",
      "metadata": {
        "colab": {
          "base_uri": "https://localhost:8080/"
        },
        "id": "fLbqt11N55Qc",
        "outputId": "7a1d719c-1734-403e-d17b-f7afb5f746dd"
      },
      "source": [
        "lst =range(20)\n",
        "print(list(lst))\n",
        "\n",
        "list(filter(even_check,lst))"
      ],
      "execution_count": 48,
      "outputs": [
        {
          "output_type": "stream",
          "text": [
            "[0, 1, 2, 3, 4, 5, 6, 7, 8, 9, 10, 11, 12, 13, 14, 15, 16, 17, 18, 19]\n"
          ],
          "name": "stdout"
        },
        {
          "output_type": "execute_result",
          "data": {
            "text/plain": [
              "[0, 2, 4, 6, 8, 10, 12, 14, 16, 18]"
            ]
          },
          "metadata": {
            "tags": []
          },
          "execution_count": 48
        }
      ]
    },
    {
      "cell_type": "code",
      "metadata": {
        "colab": {
          "base_uri": "https://localhost:8080/"
        },
        "id": "6wPIT0A155Tl",
        "outputId": "916da47e-8095-43e3-a7d7-09c25eacfc69"
      },
      "source": [
        "list(filter(lambda x: x%2==0,lst))"
      ],
      "execution_count": 49,
      "outputs": [
        {
          "output_type": "execute_result",
          "data": {
            "text/plain": [
              "[0, 2, 4, 6, 8, 10, 12, 14, 16, 18]"
            ]
          },
          "metadata": {
            "tags": []
          },
          "execution_count": 49
        }
      ]
    }
  ]
}
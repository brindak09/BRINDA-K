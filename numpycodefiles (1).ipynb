{
  "nbformat": 4,
  "nbformat_minor": 0,
  "metadata": {
    "colab": {
      "name": "numpycodefiles.ipynb",
      "provenance": [],
      "collapsed_sections": []
    },
    "kernelspec": {
      "name": "python3",
      "display_name": "Python 3"
    },
    "language_info": {
      "name": "python"
    }
  },
  "cells": [
    {
      "cell_type": "code",
      "metadata": {
        "colab": {
          "base_uri": "https://localhost:8080/"
        },
        "id": "qKawSX4pSGjs",
        "outputId": "12900e86-c579-4b3c-cbbb-354ab2dd636a"
      },
      "source": [
        "import numpy as np\n",
        "a = np.arange(12).reshape(3,4)\n",
        "a"
      ],
      "execution_count": 2,
      "outputs": [
        {
          "output_type": "execute_result",
          "data": {
            "text/plain": [
              "array([[ 0,  1,  2,  3],\n",
              "       [ 4,  5,  6,  7],\n",
              "       [ 8,  9, 10, 11]])"
            ]
          },
          "metadata": {
            "tags": []
          },
          "execution_count": 2
        }
      ]
    },
    {
      "cell_type": "code",
      "metadata": {
        "colab": {
          "base_uri": "https://localhost:8080/"
        },
        "id": "vrx8MzOcSUOR",
        "outputId": "128edc81-3dc2-4563-cf1f-477326c1e1aa"
      },
      "source": [
        "a[a > 5] = 0\n",
        "a"
      ],
      "execution_count": 4,
      "outputs": [
        {
          "output_type": "execute_result",
          "data": {
            "text/plain": [
              "array([[0, 1, 2, 3],\n",
              "       [4, 0, 0, 0],\n",
              "       [0, 0, 0, 0]])"
            ]
          },
          "metadata": {
            "tags": []
          },
          "execution_count": 4
        }
      ]
    },
    {
      "cell_type": "code",
      "metadata": {
        "colab": {
          "base_uri": "https://localhost:8080/"
        },
        "id": "aNLDHaQGSUQP",
        "outputId": "4d19f1f2-00d8-48ae-e541-cbd1eb9d0c6e"
      },
      "source": [
        "a[a == 0] = -1\n",
        "a"
      ],
      "execution_count": 5,
      "outputs": [
        {
          "output_type": "execute_result",
          "data": {
            "text/plain": [
              "array([[-1,  1,  2,  3],\n",
              "       [ 4, -1, -1, -1],\n",
              "       [-1, -1, -1, -1]])"
            ]
          },
          "metadata": {
            "tags": []
          },
          "execution_count": 5
        }
      ]
    },
    {
      "cell_type": "code",
      "metadata": {
        "colab": {
          "base_uri": "https://localhost:8080/"
        },
        "id": "-6Jvea_SSUTZ",
        "outputId": "4875047b-340d-4a38-ce11-f469d458c83e"
      },
      "source": [
        "a = np.arange(12).reshape(3,4)\n",
        "a[np.logical_and(a > 3, a <= 9)] = 0.0\n",
        "a"
      ],
      "execution_count": 6,
      "outputs": [
        {
          "output_type": "execute_result",
          "data": {
            "text/plain": [
              "array([[ 0,  1,  2,  3],\n",
              "       [ 0,  0,  0,  0],\n",
              "       [ 0,  0, 10, 11]])"
            ]
          },
          "metadata": {
            "tags": []
          },
          "execution_count": 6
        }
      ]
    },
    {
      "cell_type": "code",
      "metadata": {
        "colab": {
          "base_uri": "https://localhost:8080/"
        },
        "id": "RB0kn8UQSUU_",
        "outputId": "83f4bf50-b44f-4795-d5aa-eb256be345dc"
      },
      "source": [
        "M = 32\n",
        "N = 64\n",
        "xmin = ymin = 0.0\n",
        "xmax = ymax = 1.0\n",
        "x = np.linspace(xmin, xmax, M, endpoint=False)\n",
        "y = np.linspace(ymin, ymax, N, endpoint=False)\n",
        "print(x.shape)\n",
        "print(y.shape)\n",
        "y"
      ],
      "execution_count": 7,
      "outputs": [
        {
          "output_type": "stream",
          "text": [
            "(32,)\n",
            "(64,)\n"
          ],
          "name": "stdout"
        },
        {
          "output_type": "execute_result",
          "data": {
            "text/plain": [
              "array([0.      , 0.015625, 0.03125 , 0.046875, 0.0625  , 0.078125,\n",
              "       0.09375 , 0.109375, 0.125   , 0.140625, 0.15625 , 0.171875,\n",
              "       0.1875  , 0.203125, 0.21875 , 0.234375, 0.25    , 0.265625,\n",
              "       0.28125 , 0.296875, 0.3125  , 0.328125, 0.34375 , 0.359375,\n",
              "       0.375   , 0.390625, 0.40625 , 0.421875, 0.4375  , 0.453125,\n",
              "       0.46875 , 0.484375, 0.5     , 0.515625, 0.53125 , 0.546875,\n",
              "       0.5625  , 0.578125, 0.59375 , 0.609375, 0.625   , 0.640625,\n",
              "       0.65625 , 0.671875, 0.6875  , 0.703125, 0.71875 , 0.734375,\n",
              "       0.75    , 0.765625, 0.78125 , 0.796875, 0.8125  , 0.828125,\n",
              "       0.84375 , 0.859375, 0.875   , 0.890625, 0.90625 , 0.921875,\n",
              "       0.9375  , 0.953125, 0.96875 , 0.984375])"
            ]
          },
          "metadata": {
            "tags": []
          },
          "execution_count": 7
        }
      ]
    },
    {
      "cell_type": "code",
      "metadata": {
        "colab": {
          "base_uri": "https://localhost:8080/"
        },
        "id": "Txp2IlOOSUYE",
        "outputId": "292ef715-5441-4cf4-ebc7-67c000061193"
      },
      "source": [
        "import time\n",
        "import numpy as np\n",
        "M = 32\n",
        "N = 64\n",
        "x = np.linspace(0.0, 1.0, M, endpoint=False)\n",
        "y = np.linspace(0.0, 1.0, N, endpoint=False)\n",
        "t0 = time.time()\n",
        "g = np.zeros((M, N))\n",
        "for i in range(M):\n",
        "    for j in range(N):\n",
        "        g[i,j] = np.sin(2.0*np.pi*x[i]*y[j])\n",
        "t1 = time.time()\n",
        "print(\"time elapsed: {} s\".format(t1-t0))"
      ],
      "execution_count": 13,
      "outputs": [
        {
          "output_type": "stream",
          "text": [
            "time elapsed: 0.009229183197021484 s\n"
          ],
          "name": "stdout"
        }
      ]
    },
    {
      "cell_type": "code",
      "metadata": {
        "colab": {
          "base_uri": "https://localhost:8080/"
        },
        "id": "QtwftDw5SUaA",
        "outputId": "d8f5b959-0388-4eba-a631-7b2309ca9ee8"
      },
      "source": [
        "x2d, y2d = np.meshgrid(x, y, indexing=\"ij\")\n",
        "\n",
        "print(x2d[:,0])\n",
        "print(x2d[0,:])\n",
        "\n",
        "print(y2d[:,0])\n",
        "print(y2d[0,:])"
      ],
      "execution_count": 14,
      "outputs": [
        {
          "output_type": "stream",
          "text": [
            "[0.      0.03125 0.0625  0.09375 0.125   0.15625 0.1875  0.21875 0.25\n",
            " 0.28125 0.3125  0.34375 0.375   0.40625 0.4375  0.46875 0.5     0.53125\n",
            " 0.5625  0.59375 0.625   0.65625 0.6875  0.71875 0.75    0.78125 0.8125\n",
            " 0.84375 0.875   0.90625 0.9375  0.96875]\n",
            "[0. 0. 0. 0. 0. 0. 0. 0. 0. 0. 0. 0. 0. 0. 0. 0. 0. 0. 0. 0. 0. 0. 0. 0.\n",
            " 0. 0. 0. 0. 0. 0. 0. 0. 0. 0. 0. 0. 0. 0. 0. 0. 0. 0. 0. 0. 0. 0. 0. 0.\n",
            " 0. 0. 0. 0. 0. 0. 0. 0. 0. 0. 0. 0. 0. 0. 0. 0.]\n",
            "[0. 0. 0. 0. 0. 0. 0. 0. 0. 0. 0. 0. 0. 0. 0. 0. 0. 0. 0. 0. 0. 0. 0. 0.\n",
            " 0. 0. 0. 0. 0. 0. 0. 0.]\n",
            "[0.       0.015625 0.03125  0.046875 0.0625   0.078125 0.09375  0.109375\n",
            " 0.125    0.140625 0.15625  0.171875 0.1875   0.203125 0.21875  0.234375\n",
            " 0.25     0.265625 0.28125  0.296875 0.3125   0.328125 0.34375  0.359375\n",
            " 0.375    0.390625 0.40625  0.421875 0.4375   0.453125 0.46875  0.484375\n",
            " 0.5      0.515625 0.53125  0.546875 0.5625   0.578125 0.59375  0.609375\n",
            " 0.625    0.640625 0.65625  0.671875 0.6875   0.703125 0.71875  0.734375\n",
            " 0.75     0.765625 0.78125  0.796875 0.8125   0.828125 0.84375  0.859375\n",
            " 0.875    0.890625 0.90625  0.921875 0.9375   0.953125 0.96875  0.984375]\n"
          ],
          "name": "stdout"
        }
      ]
    },
    {
      "cell_type": "code",
      "metadata": {
        "colab": {
          "base_uri": "https://localhost:8080/"
        },
        "id": "OA79vgtrSUcz",
        "outputId": "a34d5377-26dd-4e58-88a6-06d733ef67f1"
      },
      "source": [
        "x = np.array([1, 2, 3, 4])\n",
        "y = np.array([4, 3, 2, 1])\n",
        "np.concatenate([y,x])"
      ],
      "execution_count": 15,
      "outputs": [
        {
          "output_type": "execute_result",
          "data": {
            "text/plain": [
              "array([4, 3, 2, 1, 1, 2, 3, 4])"
            ]
          },
          "metadata": {
            "tags": []
          },
          "execution_count": 15
        }
      ]
    },
    {
      "cell_type": "code",
      "metadata": {
        "colab": {
          "base_uri": "https://localhost:8080/"
        },
        "id": "utcX5cAmSUef",
        "outputId": "e3b46fb0-d315-4859-901c-7d0f73809396"
      },
      "source": [
        "grid = np.array([[10, 20, 30],\n",
        "                 [40, 50, 60]])\n",
        "np.concatenate([grid, grid])\n",
        "np.concatenate([grid, grid], axis=1)"
      ],
      "execution_count": 16,
      "outputs": [
        {
          "output_type": "execute_result",
          "data": {
            "text/plain": [
              "array([[10, 20, 30, 10, 20, 30],\n",
              "       [40, 50, 60, 40, 50, 60]])"
            ]
          },
          "metadata": {
            "tags": []
          },
          "execution_count": 16
        }
      ]
    },
    {
      "cell_type": "code",
      "metadata": {
        "colab": {
          "base_uri": "https://localhost:8080/"
        },
        "id": "wHOSxECWSUhx",
        "outputId": "da9fd528-139c-4a6d-be46-c1c74c07f0e2"
      },
      "source": [
        "x = [1, 2, 3, 4, 4, 3 ,2, 1, 9, 4 ,6]\n",
        "x1, x2, x3,x4 = np.split(x, [3, 5,8])\n",
        "print(x1, x2, x3, x4)"
      ],
      "execution_count": 17,
      "outputs": [
        {
          "output_type": "stream",
          "text": [
            "[1 2 3] [4 4] [3 2 1] [9 4 6]\n"
          ],
          "name": "stdout"
        }
      ]
    },
    {
      "cell_type": "code",
      "metadata": {
        "colab": {
          "base_uri": "https://localhost:8080/"
        },
        "id": "ZFvk_wXNSUjV",
        "outputId": "4c075454-b992-43f9-ea47-0acd612e4430"
      },
      "source": [
        "grid = np.arange(25).reshape((5, 5))\n",
        "grid"
      ],
      "execution_count": 18,
      "outputs": [
        {
          "output_type": "execute_result",
          "data": {
            "text/plain": [
              "array([[ 0,  1,  2,  3,  4],\n",
              "       [ 5,  6,  7,  8,  9],\n",
              "       [10, 11, 12, 13, 14],\n",
              "       [15, 16, 17, 18, 19],\n",
              "       [20, 21, 22, 23, 24]])"
            ]
          },
          "metadata": {
            "tags": []
          },
          "execution_count": 18
        }
      ]
    },
    {
      "cell_type": "code",
      "metadata": {
        "colab": {
          "base_uri": "https://localhost:8080/"
        },
        "id": "lHddjT0PSUm7",
        "outputId": "762d2efa-701c-45c6-e9a6-9b72adcadf97"
      },
      "source": [
        "left, right = np.hsplit(grid, [2])\n",
        "print(left)\n",
        "print(right)"
      ],
      "execution_count": 19,
      "outputs": [
        {
          "output_type": "stream",
          "text": [
            "[[ 0  1]\n",
            " [ 5  6]\n",
            " [10 11]\n",
            " [15 16]\n",
            " [20 21]]\n",
            "[[ 2  3  4]\n",
            " [ 7  8  9]\n",
            " [12 13 14]\n",
            " [17 18 19]\n",
            " [22 23 24]]\n"
          ],
          "name": "stdout"
        }
      ]
    },
    {
      "cell_type": "code",
      "metadata": {
        "colab": {
          "base_uri": "https://localhost:8080/"
        },
        "id": "tVoNlhU5UoSF",
        "outputId": "f99cd954-ca16-4691-f740-19f22dee04ab"
      },
      "source": [
        "x = np.arange(1, 9)\n",
        "print(x)\n",
        "np.add.reduce(x)"
      ],
      "execution_count": 20,
      "outputs": [
        {
          "output_type": "stream",
          "text": [
            "[1 2 3 4 5 6 7 8]\n"
          ],
          "name": "stdout"
        },
        {
          "output_type": "execute_result",
          "data": {
            "text/plain": [
              "36"
            ]
          },
          "metadata": {
            "tags": []
          },
          "execution_count": 20
        }
      ]
    },
    {
      "cell_type": "code",
      "metadata": {
        "colab": {
          "base_uri": "https://localhost:8080/"
        },
        "id": "xenivbLsUoTt",
        "outputId": "8bf1f19f-0596-44b7-cbd3-57a0904b2cb5"
      },
      "source": [
        "np.multiply.reduce(x)"
      ],
      "execution_count": 21,
      "outputs": [
        {
          "output_type": "execute_result",
          "data": {
            "text/plain": [
              "40320"
            ]
          },
          "metadata": {
            "tags": []
          },
          "execution_count": 21
        }
      ]
    },
    {
      "cell_type": "code",
      "metadata": {
        "colab": {
          "base_uri": "https://localhost:8080/"
        },
        "id": "FABvvX9qUoWg",
        "outputId": "89efb784-6983-48f5-c0a8-cdfcecacaab6"
      },
      "source": [
        "np.add.accumulate(x)"
      ],
      "execution_count": 22,
      "outputs": [
        {
          "output_type": "execute_result",
          "data": {
            "text/plain": [
              "array([ 1,  3,  6, 10, 15, 21, 28, 36])"
            ]
          },
          "metadata": {
            "tags": []
          },
          "execution_count": 22
        }
      ]
    },
    {
      "cell_type": "code",
      "metadata": {
        "colab": {
          "base_uri": "https://localhost:8080/"
        },
        "id": "vrYyMg_qUoX0",
        "outputId": "97831e91-032d-464b-ba3d-d5a8c53e52c5"
      },
      "source": [
        "np.multiply.accumulate(x)"
      ],
      "execution_count": 23,
      "outputs": [
        {
          "output_type": "execute_result",
          "data": {
            "text/plain": [
              "array([    1,     2,     6,    24,   120,   720,  5040, 40320])"
            ]
          },
          "metadata": {
            "tags": []
          },
          "execution_count": 23
        }
      ]
    }
  ]
}
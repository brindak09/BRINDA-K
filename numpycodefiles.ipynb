{
  "nbformat": 4,
  "nbformat_minor": 0,
  "metadata": {
    "colab": {
      "name": "numpycodefiles.ipynb",
      "provenance": [],
      "collapsed_sections": []
    },
    "kernelspec": {
      "name": "python3",
      "display_name": "Python 3"
    },
    "language_info": {
      "name": "python"
    }
  },
  "cells": [
    {
      "cell_type": "code",
      "metadata": {
        "colab": {
          "base_uri": "https://localhost:8080/"
        },
        "id": "5s0_dcbRQpkH",
        "outputId": "1d8bf40f-9a55-49eb-8237-10f15ba721f0"
      },
      "source": [
        "import numpy as np\n",
        "a = np.arange(10)\n",
        "b = np.arange(15)\n",
        "a\n",
        "b"
      ],
      "execution_count": 2,
      "outputs": [
        {
          "output_type": "execute_result",
          "data": {
            "text/plain": [
              "array([ 0,  1,  2,  3,  4,  5,  6,  7,  8,  9, 10, 11, 12, 13, 14])"
            ]
          },
          "metadata": {
            "tags": []
          },
          "execution_count": 2
        }
      ]
    },
    {
      "cell_type": "code",
      "metadata": {
        "colab": {
          "base_uri": "https://localhost:8080/"
        },
        "id": "X-ISmw0RRNeu",
        "outputId": "6e8b6b5e-1368-4995-c91e-a9d747e79148"
      },
      "source": [
        "a = np.arange(15).reshape(3,5)\n",
        "\n",
        "a"
      ],
      "execution_count": 3,
      "outputs": [
        {
          "output_type": "execute_result",
          "data": {
            "text/plain": [
              "array([[ 0,  1,  2,  3,  4],\n",
              "       [ 5,  6,  7,  8,  9],\n",
              "       [10, 11, 12, 13, 14]])"
            ]
          },
          "metadata": {
            "tags": []
          },
          "execution_count": 3
        }
      ]
    },
    {
      "cell_type": "code",
      "metadata": {
        "colab": {
          "base_uri": "https://localhost:8080/"
        },
        "id": "LMhGFQOARNgy",
        "outputId": "fd1f074e-e88a-4ddd-f218-f79f1e0a6a85"
      },
      "source": [
        "b = np.array( [11.0, 22.0, 33.0, 44.0] )\n",
        "print(b)\n",
        "print(b.dtype)\n",
        "print(type(b))"
      ],
      "execution_count": 5,
      "outputs": [
        {
          "output_type": "stream",
          "text": [
            "[11. 22. 33. 44.]\n",
            "float64\n",
            "<class 'numpy.ndarray'>\n"
          ],
          "name": "stdout"
        }
      ]
    },
    {
      "cell_type": "code",
      "metadata": {
        "colab": {
          "base_uri": "https://localhost:8080/"
        },
        "id": "ijKMmykWRNi0",
        "outputId": "f7b83529-203b-4044-874f-852d600e736d"
      },
      "source": [
        "import numpy as np\n",
        "c = np.eye(8)\n",
        "dtype=np.float64\n",
        "c"
      ],
      "execution_count": 7,
      "outputs": [
        {
          "output_type": "execute_result",
          "data": {
            "text/plain": [
              "array([[1., 0., 0., 0., 0., 0., 0., 0.],\n",
              "       [0., 1., 0., 0., 0., 0., 0., 0.],\n",
              "       [0., 0., 1., 0., 0., 0., 0., 0.],\n",
              "       [0., 0., 0., 1., 0., 0., 0., 0.],\n",
              "       [0., 0., 0., 0., 1., 0., 0., 0.],\n",
              "       [0., 0., 0., 0., 0., 1., 0., 0.],\n",
              "       [0., 0., 0., 0., 0., 0., 1., 0.],\n",
              "       [0., 0., 0., 0., 0., 0., 0., 1.]])"
            ]
          },
          "metadata": {
            "tags": []
          },
          "execution_count": 7
        }
      ]
    },
    {
      "cell_type": "code",
      "metadata": {
        "colab": {
          "base_uri": "https://localhost:8080/"
        },
        "id": "ctBa2i-ERNkq",
        "outputId": "a7f1c176-bdca-4d39-f2a4-6d18eccbadd8"
      },
      "source": [
        "d = np.linspace(-1, 2, 15, endpoint=True)\n",
        "print(d)"
      ],
      "execution_count": 8,
      "outputs": [
        {
          "output_type": "stream",
          "text": [
            "[-1.         -0.78571429 -0.57142857 -0.35714286 -0.14285714  0.07142857\n",
            "  0.28571429  0.5         0.71428571  0.92857143  1.14285714  1.35714286\n",
            "  1.57142857  1.78571429  2.        ]\n"
          ],
          "name": "stdout"
        }
      ]
    },
    {
      "cell_type": "code",
      "metadata": {
        "colab": {
          "base_uri": "https://localhost:8080/"
        },
        "id": "X86wrOPfRNmX",
        "outputId": "f520b364-b348-4320-8d34-7ce312cb2fc2"
      },
      "source": [
        "e = np.logspace(-1, 2, 15, endpoint=True, base=10)\n",
        "print(e)"
      ],
      "execution_count": 9,
      "outputs": [
        {
          "output_type": "stream",
          "text": [
            "[  0.1          0.16378937   0.26826958   0.43939706   0.71968567\n",
            "   1.17876863   1.93069773   3.16227766   5.17947468   8.48342898\n",
            "  13.89495494  22.75845926  37.2759372   61.05402297 100.        ]\n"
          ],
          "name": "stdout"
        }
      ]
    },
    {
      "cell_type": "code",
      "metadata": {
        "colab": {
          "base_uri": "https://localhost:8080/"
        },
        "id": "dnJg64VgRNoE",
        "outputId": "f2ad203d-4b2e-4bb1-ffca-9a37ce6173fd"
      },
      "source": [
        "f = np.fromfunction(lambda i, j: i == j, (3, 3), dtype=int)\n",
        "f"
      ],
      "execution_count": 10,
      "outputs": [
        {
          "output_type": "execute_result",
          "data": {
            "text/plain": [
              "array([[ True, False, False],\n",
              "       [False,  True, False],\n",
              "       [False, False,  True]])"
            ]
          },
          "metadata": {
            "tags": []
          },
          "execution_count": 10
        }
      ]
    },
    {
      "cell_type": "code",
      "metadata": {
        "colab": {
          "base_uri": "https://localhost:8080/"
        },
        "id": "OcKopVueTHyD",
        "outputId": "b30755c6-953f-4e55-aaa2-730fd8830998"
      },
      "source": [
        "a = np.arange(12).reshape(3,4)\n",
        "print(a)\n",
        "a*2"
      ],
      "execution_count": 11,
      "outputs": [
        {
          "output_type": "stream",
          "text": [
            "[[ 0  1  2  3]\n",
            " [ 4  5  6  7]\n",
            " [ 8  9 10 11]]\n"
          ],
          "name": "stdout"
        },
        {
          "output_type": "execute_result",
          "data": {
            "text/plain": [
              "array([[ 0,  2,  4,  6],\n",
              "       [ 8, 10, 12, 14],\n",
              "       [16, 18, 20, 22]])"
            ]
          },
          "metadata": {
            "tags": []
          },
          "execution_count": 11
        }
      ]
    },
    {
      "cell_type": "code",
      "metadata": {
        "colab": {
          "base_uri": "https://localhost:8080/"
        },
        "id": "DZvjIn-nTH0T",
        "outputId": "3ac94a97-38cd-44f4-f0b6-d5859459b512"
      },
      "source": [
        "a = np.arange(12).reshape(3,4)\n",
        "print(a)\n",
        "a+a"
      ],
      "execution_count": 14,
      "outputs": [
        {
          "output_type": "stream",
          "text": [
            "[[ 0  1  2  3]\n",
            " [ 4  5  6  7]\n",
            " [ 8  9 10 11]]\n"
          ],
          "name": "stdout"
        },
        {
          "output_type": "execute_result",
          "data": {
            "text/plain": [
              "array([[ 0,  2,  4,  6],\n",
              "       [ 8, 10, 12, 14],\n",
              "       [16, 18, 20, 22]])"
            ]
          },
          "metadata": {
            "tags": []
          },
          "execution_count": 14
        }
      ]
    },
    {
      "cell_type": "code",
      "metadata": {
        "colab": {
          "base_uri": "https://localhost:8080/"
        },
        "id": "dhslztqXTH2o",
        "outputId": "a755d237-8658-4063-e048-943d682112dd"
      },
      "source": [
        "a = np.arange(12).reshape(3,4)\n",
        "print(a)\n",
        "a*a"
      ],
      "execution_count": 15,
      "outputs": [
        {
          "output_type": "stream",
          "text": [
            "[[ 0  1  2  3]\n",
            " [ 4  5  6  7]\n",
            " [ 8  9 10 11]]\n"
          ],
          "name": "stdout"
        },
        {
          "output_type": "execute_result",
          "data": {
            "text/plain": [
              "array([[  0,   1,   4,   9],\n",
              "       [ 16,  25,  36,  49],\n",
              "       [ 64,  81, 100, 121]])"
            ]
          },
          "metadata": {
            "tags": []
          },
          "execution_count": 15
        }
      ]
    },
    {
      "cell_type": "code",
      "metadata": {
        "colab": {
          "base_uri": "https://localhost:8080/"
        },
        "id": "Y_IG6pa_TH5i",
        "outputId": "187c8c5f-9768-49a2-dfe0-15beeb7b3c22"
      },
      "source": [
        "b = a.transpose()\n",
        "b"
      ],
      "execution_count": 16,
      "outputs": [
        {
          "output_type": "execute_result",
          "data": {
            "text/plain": [
              "array([[ 0,  4,  8],\n",
              "       [ 1,  5,  9],\n",
              "       [ 2,  6, 10],\n",
              "       [ 3,  7, 11]])"
            ]
          },
          "metadata": {
            "tags": []
          },
          "execution_count": 16
        }
      ]
    },
    {
      "cell_type": "code",
      "metadata": {
        "colab": {
          "base_uri": "https://localhost:8080/"
        },
        "id": "4HIn72IIRNqr",
        "outputId": "7c29f152-be16-419f-aed1-fcb2b5a412b5"
      },
      "source": [
        "a @ b"
      ],
      "execution_count": 17,
      "outputs": [
        {
          "output_type": "execute_result",
          "data": {
            "text/plain": [
              "array([[ 14,  38,  62],\n",
              "       [ 38, 126, 214],\n",
              "       [ 62, 214, 366]])"
            ]
          },
          "metadata": {
            "tags": []
          },
          "execution_count": 17
        }
      ]
    },
    {
      "cell_type": "code",
      "metadata": {
        "colab": {
          "base_uri": "https://localhost:8080/"
        },
        "id": "j7lt_sKfT0el",
        "outputId": "4ba88551-5eed-4ef5-ab8a-088623ed53a8"
      },
      "source": [
        "print(a)\n",
        "a.sum(axis=1)\n",
        "a.sum()"
      ],
      "execution_count": 19,
      "outputs": [
        {
          "output_type": "stream",
          "text": [
            "[[ 0  1  2  3]\n",
            " [ 4  5  6  7]\n",
            " [ 8  9 10 11]]\n"
          ],
          "name": "stdout"
        },
        {
          "output_type": "execute_result",
          "data": {
            "text/plain": [
              "66"
            ]
          },
          "metadata": {
            "tags": []
          },
          "execution_count": 19
        }
      ]
    },
    {
      "cell_type": "code",
      "metadata": {
        "colab": {
          "base_uri": "https://localhost:8080/"
        },
        "id": "Bcv8KODoT0gS",
        "outputId": "a51a01e3-921b-488f-d92e-d32272459f03"
      },
      "source": [
        "print(a)\n",
        "a.sum(axis=1)\n",
        "print(a.min(), a.max())"
      ],
      "execution_count": 20,
      "outputs": [
        {
          "output_type": "stream",
          "text": [
            "[[ 0  1  2  3]\n",
            " [ 4  5  6  7]\n",
            " [ 8  9 10 11]]\n",
            "0 11\n"
          ],
          "name": "stdout"
        }
      ]
    },
    {
      "cell_type": "code",
      "metadata": {
        "colab": {
          "base_uri": "https://localhost:8080/"
        },
        "id": "COrywEUBT0i8",
        "outputId": "d7e795f7-60c4-4f92-f3e5-8db7797087ee"
      },
      "source": [
        "b = a*np.pi/12.0\n",
        "print(b)\n",
        "c = np.cos(b)\n",
        "print(c)\n",
        "d = b + c \n",
        "print(d)"
      ],
      "execution_count": 22,
      "outputs": [
        {
          "output_type": "stream",
          "text": [
            "[[0.         0.26179939 0.52359878 0.78539816]\n",
            " [1.04719755 1.30899694 1.57079633 1.83259571]\n",
            " [2.0943951  2.35619449 2.61799388 2.87979327]]\n",
            "[[ 1.00000000e+00  9.65925826e-01  8.66025404e-01  7.07106781e-01]\n",
            " [ 5.00000000e-01  2.58819045e-01  6.12323400e-17 -2.58819045e-01]\n",
            " [-5.00000000e-01 -7.07106781e-01 -8.66025404e-01 -9.65925826e-01]]\n",
            "[[1.         1.22772521 1.38962418 1.49250494]\n",
            " [1.54719755 1.56781598 1.57079633 1.57377667]\n",
            " [1.5943951  1.64908771 1.75196847 1.91386744]]\n"
          ],
          "name": "stdout"
        }
      ]
    },
    {
      "cell_type": "code",
      "metadata": {
        "colab": {
          "base_uri": "https://localhost:8080/"
        },
        "id": "NwrQs6CjT0kU",
        "outputId": "01affc45-1006-4706-ed75-876cafdadcc2"
      },
      "source": [
        "a = np.arange(12)\n",
        "a"
      ],
      "execution_count": 23,
      "outputs": [
        {
          "output_type": "execute_result",
          "data": {
            "text/plain": [
              "array([ 0,  1,  2,  3,  4,  5,  6,  7,  8,  9, 10, 11])"
            ]
          },
          "metadata": {
            "tags": []
          },
          "execution_count": 23
        }
      ]
    },
    {
      "cell_type": "code",
      "metadata": {
        "colab": {
          "base_uri": "https://localhost:8080/"
        },
        "id": "ZTsovvBoT0nX",
        "outputId": "3a49a9aa-de7f-4f3d-cad6-69cc4530869b"
      },
      "source": [
        "a = np.arange(12)\n",
        "a[:]"
      ],
      "execution_count": 24,
      "outputs": [
        {
          "output_type": "execute_result",
          "data": {
            "text/plain": [
              "array([ 0,  1,  2,  3,  4,  5,  6,  7,  8,  9, 10, 11])"
            ]
          },
          "metadata": {
            "tags": []
          },
          "execution_count": 24
        }
      ]
    },
    {
      "cell_type": "code",
      "metadata": {
        "colab": {
          "base_uri": "https://localhost:8080/"
        },
        "id": "O4UBM5WIT0p9",
        "outputId": "ae8b3a4d-9722-4880-d043-c2f8d5356e59"
      },
      "source": [
        "a = np.arange(12)\n",
        "a[1:5]"
      ],
      "execution_count": 25,
      "outputs": [
        {
          "output_type": "execute_result",
          "data": {
            "text/plain": [
              "array([1, 2, 3, 4])"
            ]
          },
          "metadata": {
            "tags": []
          },
          "execution_count": 25
        }
      ]
    },
    {
      "cell_type": "code",
      "metadata": {
        "colab": {
          "base_uri": "https://localhost:8080/"
        },
        "id": "sD33kR4FVIgQ",
        "outputId": "7802ffca-ccd3-444a-f3e5-677d4bd99e49"
      },
      "source": [
        "for r in a:\n",
        "    print(r)\n",
        "a = np.arange(15).reshape(3,5)\n",
        "print(a)"
      ],
      "execution_count": 26,
      "outputs": [
        {
          "output_type": "stream",
          "text": [
            "0\n",
            "1\n",
            "2\n",
            "3\n",
            "4\n",
            "5\n",
            "6\n",
            "7\n",
            "8\n",
            "9\n",
            "10\n",
            "11\n",
            "[[ 0  1  2  3  4]\n",
            " [ 5  6  7  8  9]\n",
            " [10 11 12 13 14]]\n"
          ],
          "name": "stdout"
        }
      ]
    },
    {
      "cell_type": "code",
      "metadata": {
        "colab": {
          "base_uri": "https://localhost:8080/"
        },
        "id": "Uys1CtTsVIjT",
        "outputId": "472dffa4-ab68-44a9-82ea-b397aab91502"
      },
      "source": [
        "for e in a.flat:\n",
        "    print(e)"
      ],
      "execution_count": 27,
      "outputs": [
        {
          "output_type": "stream",
          "text": [
            "0\n",
            "1\n",
            "2\n",
            "3\n",
            "4\n",
            "5\n",
            "6\n",
            "7\n",
            "8\n",
            "9\n",
            "10\n",
            "11\n",
            "12\n",
            "13\n",
            "14\n"
          ],
          "name": "stdout"
        }
      ]
    },
    {
      "cell_type": "code",
      "metadata": {
        "colab": {
          "base_uri": "https://localhost:8080/"
        },
        "id": "ghmPweBSVIlM",
        "outputId": "77290754-b007-4ae1-dcae-6f60561510e4"
      },
      "source": [
        "a = np.arange(10)\n",
        "print(a)\n",
        "b = a\n",
        "b.shape = (2, 5)\n",
        "print(b)\n",
        "a.shape\n",
        "print(a)"
      ],
      "execution_count": 28,
      "outputs": [
        {
          "output_type": "stream",
          "text": [
            "[0 1 2 3 4 5 6 7 8 9]\n",
            "[[0 1 2 3 4]\n",
            " [5 6 7 8 9]]\n",
            "[[0 1 2 3 4]\n",
            " [5 6 7 8 9]]\n"
          ],
          "name": "stdout"
        }
      ]
    },
    {
      "cell_type": "code",
      "metadata": {
        "colab": {
          "base_uri": "https://localhost:8080/"
        },
        "id": "KqBGI9CBVInM",
        "outputId": "7ac48cd7-fd54-4595-8cbd-2ecd1dcb58a0"
      },
      "source": [
        "a = np.arange(12)\n",
        "c = a[:]\n",
        "a.shape = (3,4)\n",
        "print(a)\n",
        "print(c)"
      ],
      "execution_count": 29,
      "outputs": [
        {
          "output_type": "stream",
          "text": [
            "[[ 0  1  2  3]\n",
            " [ 4  5  6  7]\n",
            " [ 8  9 10 11]]\n",
            "[ 0  1  2  3  4  5  6  7  8  9 10 11]\n"
          ],
          "name": "stdout"
        }
      ]
    },
    {
      "cell_type": "code",
      "metadata": {
        "colab": {
          "base_uri": "https://localhost:8080/"
        },
        "id": "0TzG_iUYVIrW",
        "outputId": "54298eb9-4b0a-4fc4-81db-d48df1c55297"
      },
      "source": [
        "c[1] = -1\n",
        "print(a)\n",
        "print(c)"
      ],
      "execution_count": 30,
      "outputs": [
        {
          "output_type": "stream",
          "text": [
            "[[ 0 -1  2  3]\n",
            " [ 4  5  6  7]\n",
            " [ 8  9 10 11]]\n",
            "[ 0 -1  2  3  4  5  6  7  8  9 10 11]\n"
          ],
          "name": "stdout"
        }
      ]
    },
    {
      "cell_type": "code",
      "metadata": {
        "colab": {
          "base_uri": "https://localhost:8080/"
        },
        "id": "tPT87d2MV4Yp",
        "outputId": "13a67377-bc26-4ab6-e5cc-a13dbeaa5001"
      },
      "source": [
        "d = c[3:8]\n",
        "print(d)"
      ],
      "execution_count": 31,
      "outputs": [
        {
          "output_type": "stream",
          "text": [
            "[3 4 5 6 7]\n"
          ],
          "name": "stdout"
        }
      ]
    },
    {
      "cell_type": "code",
      "metadata": {
        "colab": {
          "base_uri": "https://localhost:8080/"
        },
        "id": "cHWBoNf1V4bt",
        "outputId": "605bf5f5-4637-4127-9541-12cc34ac0118"
      },
      "source": [
        "d[:] = 0 \n",
        "print(a)\n",
        "print(c)\n",
        "print(d)"
      ],
      "execution_count": 32,
      "outputs": [
        {
          "output_type": "stream",
          "text": [
            "[[ 0 -1  2  0]\n",
            " [ 0  0  0  0]\n",
            " [ 8  9 10 11]]\n",
            "[ 0 -1  2  0  0  0  0  0  8  9 10 11]\n",
            "[0 0 0 0 0]\n"
          ],
          "name": "stdout"
        }
      ]
    },
    {
      "cell_type": "code",
      "metadata": {
        "colab": {
          "base_uri": "https://localhost:8080/"
        },
        "id": "J48z46ioV4fQ",
        "outputId": "ecb34eca-889a-407e-b4ae-860a087f95ba"
      },
      "source": [
        "print(c is a)\n",
        "print(c.base is a)\n",
        "print(c.flags.owndata)\n",
        "print(a.flags.owndata)"
      ],
      "execution_count": 33,
      "outputs": [
        {
          "output_type": "stream",
          "text": [
            "False\n",
            "True\n",
            "False\n",
            "True\n"
          ],
          "name": "stdout"
        }
      ]
    },
    {
      "cell_type": "code",
      "metadata": {
        "colab": {
          "base_uri": "https://localhost:8080/"
        },
        "id": "oL2e8PseV4hV",
        "outputId": "74a3416c-0178-4aca-e488-8b9640b9bf71"
      },
      "source": [
        "d = a.copy()\n",
        "d[:,:] = 0.0\n",
        "print(a)\n",
        "print(d)"
      ],
      "execution_count": 34,
      "outputs": [
        {
          "output_type": "stream",
          "text": [
            "[[ 0 -1  2  0]\n",
            " [ 0  0  0  0]\n",
            " [ 8  9 10 11]]\n",
            "[[0 0 0 0]\n",
            " [0 0 0 0]\n",
            " [0 0 0 0]]\n"
          ],
          "name": "stdout"
        }
      ]
    },
    {
      "cell_type": "code",
      "metadata": {
        "id": "gQqbGPzbV4kg"
      },
      "source": [
        ""
      ],
      "execution_count": null,
      "outputs": []
    },
    {
      "cell_type": "code",
      "metadata": {
        "id": "0vmRdu0xV4m3"
      },
      "source": [
        ""
      ],
      "execution_count": null,
      "outputs": []
    },
    {
      "cell_type": "code",
      "metadata": {
        "id": "o7brcElNV4p7"
      },
      "source": [
        ""
      ],
      "execution_count": null,
      "outputs": []
    },
    {
      "cell_type": "code",
      "metadata": {
        "id": "NoLavPVMV4r9"
      },
      "source": [
        ""
      ],
      "execution_count": null,
      "outputs": []
    }
  ]
}
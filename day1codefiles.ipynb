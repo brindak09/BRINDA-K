{
  "nbformat": 4,
  "nbformat_minor": 0,
  "metadata": {
    "colab": {
      "name": "day1codefiles.ipynb",
      "provenance": [],
      "collapsed_sections": []
    },
    "kernelspec": {
      "name": "python3",
      "display_name": "Python 3"
    },
    "language_info": {
      "name": "python"
    }
  },
  "cells": [
    {
      "cell_type": "code",
      "metadata": {
        "colab": {
          "base_uri": "https://localhost:8080/"
        },
        "id": "7oV4ne0nhS06",
        "outputId": "e4464d3d-d051-49bc-8552-cec285dddf69"
      },
      "source": [
        "x = 1\n",
        "type(x)"
      ],
      "execution_count": 1,
      "outputs": [
        {
          "output_type": "execute_result",
          "data": {
            "text/plain": [
              "int"
            ]
          },
          "metadata": {
            "tags": []
          },
          "execution_count": 1
        }
      ]
    },
    {
      "cell_type": "code",
      "metadata": {
        "colab": {
          "base_uri": "https://localhost:8080/"
        },
        "id": "z5V7jSIxh5Cz",
        "outputId": "06d0fef5-6985-4bbb-a802-13fa5e7a0270"
      },
      "source": [
        "x = 1.0\n",
        "type(x)"
      ],
      "execution_count": 2,
      "outputs": [
        {
          "output_type": "execute_result",
          "data": {
            "text/plain": [
              "float"
            ]
          },
          "metadata": {
            "tags": []
          },
          "execution_count": 2
        }
      ]
    },
    {
      "cell_type": "code",
      "metadata": {
        "colab": {
          "base_uri": "https://localhost:8080/"
        },
        "id": "fZvvdSvFiFq3",
        "outputId": "c1f3f74e-b31f-4c6b-c4c8-8f73d4cc2da3"
      },
      "source": [
        "b1 = True\n",
        "b2 = False\n",
        "\n",
        "type(b1)"
      ],
      "execution_count": 3,
      "outputs": [
        {
          "output_type": "execute_result",
          "data": {
            "text/plain": [
              "bool"
            ]
          },
          "metadata": {
            "tags": []
          },
          "execution_count": 3
        }
      ]
    },
    {
      "cell_type": "code",
      "metadata": {
        "colab": {
          "base_uri": "https://localhost:8080/"
        },
        "id": "ecbqRUmwiNAH",
        "outputId": "813d9d02-ab5b-446c-ea68-af14c1e21f9a"
      },
      "source": [
        "name1 = ' name'\n",
        "type(name1)"
      ],
      "execution_count": 46,
      "outputs": [
        {
          "output_type": "execute_result",
          "data": {
            "text/plain": [
              "str"
            ]
          },
          "metadata": {
            "tags": []
          },
          "execution_count": 46
        }
      ]
    },
    {
      "cell_type": "code",
      "metadata": {
        "colab": {
          "base_uri": "https://localhost:8080/"
        },
        "id": "t4dSPMWDiYqu",
        "outputId": "092d06a9-23b1-4bf0-ba30-50ad1003acbf"
      },
      "source": [
        "x = 1.0 - 2.0j\n",
        "type(x)\n",
        "print(x)\n",
        "print(x.real, x.imag)"
      ],
      "execution_count": 5,
      "outputs": [
        {
          "output_type": "stream",
          "text": [
            "(1-2j)\n",
            "1.0 -2.0\n"
          ],
          "name": "stdout"
        }
      ]
    },
    {
      "cell_type": "code",
      "metadata": {
        "colab": {
          "base_uri": "https://localhost:8080/"
        },
        "id": "Gt9AI4uOisI2",
        "outputId": "9925a8d5-526f-45a2-e852-8dece282fff4"
      },
      "source": [
        "tenth = 10\n",
        "two = 2\n",
        "print(tenth)\n",
        "two"
      ],
      "execution_count": 6,
      "outputs": [
        {
          "output_type": "stream",
          "text": [
            "10\n"
          ],
          "name": "stdout"
        },
        {
          "output_type": "execute_result",
          "data": {
            "text/plain": [
              "2"
            ]
          },
          "metadata": {
            "tags": []
          },
          "execution_count": 6
        }
      ]
    },
    {
      "cell_type": "code",
      "metadata": {
        "colab": {
          "base_uri": "https://localhost:8080/"
        },
        "id": "UuaOsTIgiuBM",
        "outputId": "769f8396-2fc9-488d-cf75-3728f718fdee"
      },
      "source": [
        "ten = 10\n",
        "ten\n"
      ],
      "execution_count": 8,
      "outputs": [
        {
          "output_type": "execute_result",
          "data": {
            "text/plain": [
              "10"
            ]
          },
          "metadata": {
            "tags": []
          },
          "execution_count": 8
        }
      ]
    },
    {
      "cell_type": "code",
      "metadata": {
        "colab": {
          "base_uri": "https://localhost:8080/",
          "height": 35
        },
        "id": "QwX41ZVDi8fV",
        "outputId": "b78e99f7-ae6a-4c35-86b7-36dfdf79cc8f"
      },
      "source": [
        "ten = 'ten'\n",
        "ten"
      ],
      "execution_count": 9,
      "outputs": [
        {
          "output_type": "execute_result",
          "data": {
            "application/vnd.google.colaboratory.intrinsic+json": {
              "type": "string"
            },
            "text/plain": [
              "'ten'"
            ]
          },
          "metadata": {
            "tags": []
          },
          "execution_count": 9
        }
      ]
    },
    {
      "cell_type": "code",
      "metadata": {
        "colab": {
          "base_uri": "https://localhost:8080/",
          "height": 35
        },
        "id": "WWtPzQYEjLuw",
        "outputId": "7001ef6e-a608-43e7-eee5-430c2ab5aa25"
      },
      "source": [
        "'Day ' + str(1)"
      ],
      "execution_count": 11,
      "outputs": [
        {
          "output_type": "execute_result",
          "data": {
            "application/vnd.google.colaboratory.intrinsic+json": {
              "type": "string"
            },
            "text/plain": [
              "'Day 1'"
            ]
          },
          "metadata": {
            "tags": []
          },
          "execution_count": 11
        }
      ]
    },
    {
      "cell_type": "code",
      "metadata": {
        "colab": {
          "base_uri": "https://localhost:8080/"
        },
        "id": "cDOQVRLKjL5l",
        "outputId": "79f77406-895c-4f6e-c435-56a2754baaf1"
      },
      "source": [
        "True and True"
      ],
      "execution_count": 13,
      "outputs": [
        {
          "output_type": "execute_result",
          "data": {
            "text/plain": [
              "True"
            ]
          },
          "metadata": {
            "tags": []
          },
          "execution_count": 13
        }
      ]
    },
    {
      "cell_type": "code",
      "metadata": {
        "colab": {
          "base_uri": "https://localhost:8080/"
        },
        "id": "DnrG_ZJgjMBR",
        "outputId": "e00eef6e-534a-495a-8fdd-84f8ffc80365"
      },
      "source": [
        "True or False"
      ],
      "execution_count": 14,
      "outputs": [
        {
          "output_type": "execute_result",
          "data": {
            "text/plain": [
              "True"
            ]
          },
          "metadata": {
            "tags": []
          },
          "execution_count": 14
        }
      ]
    },
    {
      "cell_type": "code",
      "metadata": {
        "colab": {
          "base_uri": "https://localhost:8080/"
        },
        "id": "vpUo7NNMjMG7",
        "outputId": "3c69deee-a556-4eed-8d89-ed94376b3d03"
      },
      "source": [
        "not True"
      ],
      "execution_count": 15,
      "outputs": [
        {
          "output_type": "execute_result",
          "data": {
            "text/plain": [
              "False"
            ]
          },
          "metadata": {
            "tags": []
          },
          "execution_count": 15
        }
      ]
    },
    {
      "cell_type": "code",
      "metadata": {
        "colab": {
          "base_uri": "https://localhost:8080/"
        },
        "id": "BY5THzVIjMJz",
        "outputId": "2b0c381e-bbc5-422d-e23b-1660b02bc22b"
      },
      "source": [
        "not False"
      ],
      "execution_count": 16,
      "outputs": [
        {
          "output_type": "execute_result",
          "data": {
            "text/plain": [
              "True"
            ]
          },
          "metadata": {
            "tags": []
          },
          "execution_count": 16
        }
      ]
    },
    {
      "cell_type": "code",
      "metadata": {
        "colab": {
          "base_uri": "https://localhost:8080/"
        },
        "id": "igOT1fTmjMQj",
        "outputId": "c8e36e1c-f415-4405-aff0-3f212e72da31"
      },
      "source": [
        "True is True"
      ],
      "execution_count": 17,
      "outputs": [
        {
          "output_type": "execute_result",
          "data": {
            "text/plain": [
              "True"
            ]
          },
          "metadata": {
            "tags": []
          },
          "execution_count": 17
        }
      ]
    },
    {
      "cell_type": "code",
      "metadata": {
        "colab": {
          "base_uri": "https://localhost:8080/"
        },
        "id": "Oy9k695Ej7L5",
        "outputId": "ad59d4f2-b35c-4111-8eff-0a7985f2503d"
      },
      "source": [
        "True is False"
      ],
      "execution_count": 18,
      "outputs": [
        {
          "output_type": "execute_result",
          "data": {
            "text/plain": [
              "False"
            ]
          },
          "metadata": {
            "tags": []
          },
          "execution_count": 18
        }
      ]
    },
    {
      "cell_type": "code",
      "metadata": {
        "colab": {
          "base_uri": "https://localhost:8080/"
        },
        "id": "DjfFMB6Tj7Nw",
        "outputId": "5169f316-bf4a-43f9-dbe9-ef93db2de9a2"
      },
      "source": [
        "'a' is 'a'"
      ],
      "execution_count": 19,
      "outputs": [
        {
          "output_type": "execute_result",
          "data": {
            "text/plain": [
              "True"
            ]
          },
          "metadata": {
            "tags": []
          },
          "execution_count": 19
        }
      ]
    },
    {
      "cell_type": "code",
      "metadata": {
        "colab": {
          "base_uri": "https://localhost:8080/"
        },
        "id": "xIbX0QbKj7QN",
        "outputId": "ad5a47e6-106b-483b-e69d-403b8ea261a2"
      },
      "source": [
        "i = 6\n",
        "if i < 3:\n",
        "    print('less than 3')\n",
        "elif i < 5:\n",
        "    print('less than 5')\n",
        "else:\n",
        "    print('5 or more')\n"
      ],
      "execution_count": 21,
      "outputs": [
        {
          "output_type": "stream",
          "text": [
            "5 or more\n"
          ],
          "name": "stdout"
        }
      ]
    },
    {
      "cell_type": "code",
      "metadata": {
        "colab": {
          "base_uri": "https://localhost:8080/"
        },
        "id": "nXX9Esrsj7T_",
        "outputId": "1bbff5cb-994d-4031-adfb-2016588d2f3c"
      },
      "source": [
        "l = []\n",
        "l"
      ],
      "execution_count": 22,
      "outputs": [
        {
          "output_type": "execute_result",
          "data": {
            "text/plain": [
              "[]"
            ]
          },
          "metadata": {
            "tags": []
          },
          "execution_count": 22
        }
      ]
    },
    {
      "cell_type": "code",
      "metadata": {
        "colab": {
          "base_uri": "https://localhost:8080/"
        },
        "id": "l8JaH4Cxj7Vm",
        "outputId": "f5f73c7a-fe1b-4abc-92d7-06f30f6487b7"
      },
      "source": [
        "l = list()\n",
        "l"
      ],
      "execution_count": 23,
      "outputs": [
        {
          "output_type": "execute_result",
          "data": {
            "text/plain": [
              "[]"
            ]
          },
          "metadata": {
            "tags": []
          },
          "execution_count": 23
        }
      ]
    },
    {
      "cell_type": "code",
      "metadata": {
        "colab": {
          "base_uri": "https://localhost:8080/"
        },
        "id": "ngcEFLxJj7aB",
        "outputId": "3cd87481-f6ca-40a0-978d-7e4e0d1220bf"
      },
      "source": [
        "l = ['a', 'b', 'c']\n",
        "print(l)\n",
        "type(l)"
      ],
      "execution_count": 24,
      "outputs": [
        {
          "output_type": "stream",
          "text": [
            "['a', 'b', 'c']\n"
          ],
          "name": "stdout"
        },
        {
          "output_type": "execute_result",
          "data": {
            "text/plain": [
              "list"
            ]
          },
          "metadata": {
            "tags": []
          },
          "execution_count": 24
        }
      ]
    },
    {
      "cell_type": "code",
      "metadata": {
        "colab": {
          "base_uri": "https://localhost:8080/"
        },
        "id": "p3dvh5kpjMTc",
        "outputId": "cf0c4dae-cbd7-4a1d-e976-720825043ae9"
      },
      "source": [
        "l = ['a',6]\n",
        "l"
      ],
      "execution_count": 25,
      "outputs": [
        {
          "output_type": "execute_result",
          "data": {
            "text/plain": [
              "['a', 6]"
            ]
          },
          "metadata": {
            "tags": []
          },
          "execution_count": 25
        }
      ]
    },
    {
      "cell_type": "code",
      "metadata": {
        "colab": {
          "base_uri": "https://localhost:8080/"
        },
        "id": "jsYamTF1kl03",
        "outputId": "ea1a486e-4e97-4691-942d-8c01a7091800"
      },
      "source": [
        "l2 = list(l)\n",
        "l2\n"
      ],
      "execution_count": 26,
      "outputs": [
        {
          "output_type": "execute_result",
          "data": {
            "text/plain": [
              "['a', 6]"
            ]
          },
          "metadata": {
            "tags": []
          },
          "execution_count": 26
        }
      ]
    },
    {
      "cell_type": "code",
      "metadata": {
        "colab": {
          "base_uri": "https://localhost:8080/"
        },
        "id": "-g9nh31dkl2R",
        "outputId": "2bff27db-9761-4292-beda-48874c689696"
      },
      "source": [
        "list('abcdef')"
      ],
      "execution_count": 27,
      "outputs": [
        {
          "output_type": "execute_result",
          "data": {
            "text/plain": [
              "['a', 'b', 'c', 'd', 'e', 'f']"
            ]
          },
          "metadata": {
            "tags": []
          },
          "execution_count": 27
        }
      ]
    },
    {
      "cell_type": "code",
      "metadata": {
        "colab": {
          "base_uri": "https://localhost:8080/"
        },
        "id": "sNtLuQjckl5Q",
        "outputId": "19ad217e-8846-4eb7-f39b-b84a2c921d44"
      },
      "source": [
        "l = [1,2]\n",
        "print(l)\n",
        "l.append('b')\n",
        "print(l)\n",
        "l.append('c')\n",
        "print(l)\n",
        "l.insert(1, 56)\n",
        "l"
      ],
      "execution_count": 28,
      "outputs": [
        {
          "output_type": "stream",
          "text": [
            "[1, 2]\n",
            "[1, 2, 'b']\n",
            "[1, 2, 'b', 'c']\n"
          ],
          "name": "stdout"
        },
        {
          "output_type": "execute_result",
          "data": {
            "text/plain": [
              "[1, 56, 2, 'b', 'c']"
            ]
          },
          "metadata": {
            "tags": []
          },
          "execution_count": 28
        }
      ]
    },
    {
      "cell_type": "code",
      "metadata": {
        "colab": {
          "base_uri": "https://localhost:8080/"
        },
        "id": "PSCh1qLBkl6j",
        "outputId": "fb024314-b404-4c1c-edb5-d0fec0a33905"
      },
      "source": [
        "for i in l:\n",
        "    print(i)"
      ],
      "execution_count": 29,
      "outputs": [
        {
          "output_type": "stream",
          "text": [
            "1\n",
            "56\n",
            "2\n",
            "b\n",
            "c\n"
          ],
          "name": "stdout"
        }
      ]
    },
    {
      "cell_type": "code",
      "metadata": {
        "colab": {
          "base_uri": "https://localhost:8080/"
        },
        "id": "MJ8R6cPMkl9k",
        "outputId": "46213ba1-ac99-4877-874a-8f283680a8d5"
      },
      "source": [
        "numbers = [9,5,8,6,1,7,3,2,4]\n",
        "sum = 0\n",
        "for i in numbers:\n",
        "    sum = sum + i\n",
        "print(\"The sum is\", sum)\n",
        "sum\n"
      ],
      "execution_count": 45,
      "outputs": [
        {
          "output_type": "stream",
          "text": [
            "The sum is 45\n"
          ],
          "name": "stdout"
        },
        {
          "output_type": "execute_result",
          "data": {
            "text/plain": [
              "45"
            ]
          },
          "metadata": {
            "tags": []
          },
          "execution_count": 45
        }
      ]
    },
    {
      "cell_type": "code",
      "metadata": {
        "colab": {
          "base_uri": "https://localhost:8080/"
        },
        "id": "2H4ywxWGkl_e",
        "outputId": "fb0f85f8-e0a6-4d6f-eece-5a0ed561c38f"
      },
      "source": [
        "digits = [0, 1, 5]\n",
        "\n",
        "for i in digits:\n",
        "    print(i)\n",
        "else:\n",
        "    print(\"No items left.\")"
      ],
      "execution_count": 31,
      "outputs": [
        {
          "output_type": "stream",
          "text": [
            "0\n",
            "1\n",
            "5\n",
            "No items left.\n"
          ],
          "name": "stdout"
        }
      ]
    },
    {
      "cell_type": "code",
      "metadata": {
        "colab": {
          "base_uri": "https://localhost:8080/"
        },
        "id": "JUEclv6qkmCF",
        "outputId": "1c0b24ab-4f96-4f83-e514-36acb6fb6e30"
      },
      "source": [
        "n = int(input(\"Enter n: \"))\n",
        "sum = 0\n",
        "i = 1\n",
        "while i <= n:\n",
        "    sum = sum + i\n",
        "    i = i+1    \n",
        "print(\"The sum is\", sum)"
      ],
      "execution_count": 33,
      "outputs": [
        {
          "output_type": "stream",
          "text": [
            "Enter n: 20\n",
            "The sum is 210\n"
          ],
          "name": "stdout"
        }
      ]
    },
    {
      "cell_type": "code",
      "metadata": {
        "colab": {
          "base_uri": "https://localhost:8080/"
        },
        "id": "5XoN-asYkmD-",
        "outputId": "2b35575f-5a1a-4657-c238-4f54b44c4e55"
      },
      "source": [
        "print(range(10))"
      ],
      "execution_count": 34,
      "outputs": [
        {
          "output_type": "stream",
          "text": [
            "range(0, 10)\n"
          ],
          "name": "stdout"
        }
      ]
    },
    {
      "cell_type": "code",
      "metadata": {
        "colab": {
          "base_uri": "https://localhost:8080/"
        },
        "id": "kC1CXcCSkmH3",
        "outputId": "5378e777-db01-48d9-ee1a-a420dcce537a"
      },
      "source": [
        "print(list(range(10)))"
      ],
      "execution_count": 35,
      "outputs": [
        {
          "output_type": "stream",
          "text": [
            "[0, 1, 2, 3, 4, 5, 6, 7, 8, 9]\n"
          ],
          "name": "stdout"
        }
      ]
    },
    {
      "cell_type": "code",
      "metadata": {
        "colab": {
          "base_uri": "https://localhost:8080/"
        },
        "id": "Iic2SbJ8mFoa",
        "outputId": "3154ee51-cd3f-45d1-f181-d37627be46ab"
      },
      "source": [
        "print(list(range(2, 8)))"
      ],
      "execution_count": 36,
      "outputs": [
        {
          "output_type": "stream",
          "text": [
            "[2, 3, 4, 5, 6, 7]\n"
          ],
          "name": "stdout"
        }
      ]
    },
    {
      "cell_type": "code",
      "metadata": {
        "colab": {
          "base_uri": "https://localhost:8080/"
        },
        "id": "AvkU69-smFxr",
        "outputId": "ed10f29f-e941-4c94-a586-a6449be1c9f6"
      },
      "source": [
        "genre = ['pop', 'rock', 'jazz','sapna']\n",
        "for i in range(len(genre)):\n",
        "    print(\"I like\", genre[i])"
      ],
      "execution_count": 37,
      "outputs": [
        {
          "output_type": "stream",
          "text": [
            "I like pop\n",
            "I like rock\n",
            "I like jazz\n",
            "I like sapna\n"
          ],
          "name": "stdout"
        }
      ]
    },
    {
      "cell_type": "code",
      "metadata": {
        "colab": {
          "base_uri": "https://localhost:8080/"
        },
        "id": "sLcRLq7dmF4B",
        "outputId": "e0d8d45a-bab9-4480-ed40-61a0ee675e78"
      },
      "source": [
        "for val in \"BRINDA\":\n",
        "    if val == \"I\":\n",
        "        break\n",
        "    print(val)\n",
        "print(\"The end\")"
      ],
      "execution_count": 44,
      "outputs": [
        {
          "output_type": "stream",
          "text": [
            "B\n",
            "R\n",
            "The end\n"
          ],
          "name": "stdout"
        }
      ]
    },
    {
      "cell_type": "code",
      "metadata": {
        "colab": {
          "base_uri": "https://localhost:8080/"
        },
        "id": "LXGp_qFkmF5M",
        "outputId": "2571dd5b-a3b9-47d3-d84d-d7657dfdc61e"
      },
      "source": [
        "name = input(\"What is your name?\\n \")\n",
        "type(name)"
      ],
      "execution_count": 39,
      "outputs": [
        {
          "output_type": "stream",
          "text": [
            "What is your name?\n",
            " bribda\n"
          ],
          "name": "stdout"
        },
        {
          "output_type": "execute_result",
          "data": {
            "text/plain": [
              "str"
            ]
          },
          "metadata": {
            "tags": []
          },
          "execution_count": 39
        }
      ]
    },
    {
      "cell_type": "code",
      "metadata": {
        "colab": {
          "base_uri": "https://localhost:8080/"
        },
        "id": "wgMUjqCjmF7D",
        "outputId": "f327e5ec-a479-4b4f-97dd-028f32b920f3"
      },
      "source": [
        "age = int(input(\"What is your age? \"))\n",
        "print (\"Your age is: \", age)\n",
        "type(age)"
      ],
      "execution_count": 40,
      "outputs": [
        {
          "output_type": "stream",
          "text": [
            "What is your age? 21\n",
            "Your age is:  21\n"
          ],
          "name": "stdout"
        },
        {
          "output_type": "execute_result",
          "data": {
            "text/plain": [
              "int"
            ]
          },
          "metadata": {
            "tags": []
          },
          "execution_count": 40
        }
      ]
    },
    {
      "cell_type": "code",
      "metadata": {
        "colab": {
          "base_uri": "https://localhost:8080/"
        },
        "id": "AJg3B1xymF8g",
        "outputId": "af475c0e-7658-4005-fecf-fc57de7a9bcf"
      },
      "source": [
        "name = input(\"What is your name? \")\n",
        "print (\" It was nice talking you \" + name + \"!\")\n",
        "age = input(\"Enter your age? \")\n",
        "print(\"Hey, you are already \" + age + \" years old, \" + name + \"!\")\n"
      ],
      "execution_count": 41,
      "outputs": [
        {
          "output_type": "stream",
          "text": [
            "What is your name? brinda\n",
            " It was nice talking you brinda!\n",
            "Enter your age? 21\n",
            "Hey, you are already 21 years old, brinda!\n"
          ],
          "name": "stdout"
        }
      ]
    }
  ]
}